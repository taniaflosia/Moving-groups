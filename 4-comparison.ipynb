{
 "cells": [
  {
   "cell_type": "code",
   "execution_count": 1,
   "metadata": {},
   "outputs": [],
   "source": [
    "from numpy import *\n",
    "import pandas as pd\n",
    "import pylab as p\n",
    "import matplotlib\n",
    "from matplotlib.backends.backend_pdf import PdfPages\n",
    "import vaex\n",
    "import csv\n",
    "from scipy.stats import norm #for gaussian\n",
    "import os\n",
    "from tqdm import tqdm\n",
    "import subprocess as sub"
   ]
  },
  {
   "cell_type": "markdown",
   "metadata": {},
   "source": [
    "# Compare the results of different FOF_b and FOF_f"
   ]
  },
  {
   "cell_type": "markdown",
   "metadata": {},
   "source": [
    "## Read the file"
   ]
  },
  {
   "cell_type": "code",
   "execution_count": 3,
   "metadata": {},
   "outputs": [],
   "source": [
    "varyfb = '/net/virgo01/data/users/virgini/rockstar/RC3/output/'\n",
    "hdr_par = ['x', 'y', 'z', 'vx', 'vy', 'vz', 'p_id', 'as_int_id', 'int_id', 'ext_id']\n",
    "hdr_sub = ['id', 'num_p', 'mvir', 'mbound_vir', 'rvir', 'vmax', 'rvmax', 'vrms',\\\n",
    "           'x', 'y', 'z', 'vx', 'vy', 'vz', 'Jx', 'Jy', 'Jz', 'E', 'Spin', \\\n",
    "           'PosUncertainty', 'VelUncertainty', 'bulk_vx', 'bulk_vy', 'bulk_vz',\\\n",
    "           'BulkVelUnc', 'n_core', 'm200b', 'm200c', 'm500c', 'm2500c',\\\n",
    "           'Xoff', 'Voff', 'spin_bullock', 'b_to_a', 'c_to_a', \\\n",
    "           'A[x]', 'A[y]', 'A[z]', 'b_to_a(500c)', 'c_to_a(500c)', \\\n",
    "           'A[x](500c)', 'A[y](500c)', 'A[z](500c)', 'Rs', 'Rs_Klypin', 'T/|U|',\\\n",
    "           'M_pe_Behroozi', 'M_pe_Diemer', 'idx', 'i_so', 'i_ph', 'num_cp', 'mmetric']\n",
    "\n",
    "output_1 = 'b05-f40-n10-t70'\n",
    "output_2 = 'b05-f80-n10-t70'\n",
    "output_3 = 'b20-f40-n10-t70'\n",
    "output_4 = 'b20-f80-n10-t70'\n",
    "output_7 = 'b05-f40-n10-t0'\n",
    "output_8 = 'b20-f80-n10-t0'\n",
    "\n",
    "tmp_par1 = os.path.join(varyfb + output_1 + '-particles')\n",
    "tmp_par2 = os.path.join(varyfb + output_2 + '-particles')\n",
    "tmp_par3 = os.path.join(varyfb + output_3 + '-particles')\n",
    "tmp_par4 = os.path.join(varyfb + output_4 + '-particles')\n",
    "tmp_par7 = os.path.join(varyfb + output_7 + '-particles')\n",
    "tmp_par8 = os.path.join(varyfb + output_8 + '-particles')\n",
    "\n",
    "df_par1 = pd.read_csv(tmp_par1, comment='#', sep=' ', names=hdr_par)\n",
    "df_par2 = pd.read_csv(tmp_par2, comment='#', sep=' ', names=hdr_par)\n",
    "df_par3 = pd.read_csv(tmp_par3, comment='#', sep=' ', names=hdr_par)\n",
    "df_par4 = pd.read_csv(tmp_par4, comment='#', sep=' ', names=hdr_par)\n",
    "df_par7 = pd.read_csv(tmp_par7, comment='#', sep=' ', names=hdr_par)\n",
    "df_par8 = pd.read_csv(tmp_par8, comment='#', sep=' ', names=hdr_par)\n",
    "\n",
    "df1 = df_par1[(df_par1.as_int_id == df_par1.int_id) & (df_par1.ext_id != -1)]\n",
    "df2 = df_par2[(df_par2.as_int_id == df_par2.int_id) & (df_par2.ext_id != -1)]\n",
    "df3 = df_par3[(df_par3.as_int_id == df_par3.int_id) & (df_par3.ext_id != -1)]\n",
    "df4 = df_par4[(df_par4.as_int_id == df_par4.int_id) & (df_par4.ext_id != -1)]\n",
    "df7 = df_par7[(df_par7.as_int_id == df_par7.int_id) & (df_par7.ext_id != -1)]\n",
    "df8 = df_par8[(df_par8.as_int_id == df_par8.int_id) & (df_par8.ext_id != -1)]\n",
    "\n",
    "name_1 = output_1.replace('-n10-t70', '')\n",
    "name_2 = output_2.replace('-n10-t70', '')\n",
    "name_3 = output_3.replace('-n10-t70', '')\n",
    "name_4 = output_4.replace('-n10-t70', '')\n",
    "name_7 = output_7.replace('-n10-t0', '')\n",
    "name_8 = output_8.replace('-n10-t0', '')\n",
    "\n",
    "tmp_sub1 = os.path.join(varyfb + output_1 + '-halo')\n",
    "tmp_sub2 = os.path.join(varyfb + output_2 + '-halo')\n",
    "tmp_sub3 = os.path.join(varyfb + output_3 + '-halo')\n",
    "tmp_sub4 = os.path.join(varyfb + output_4 + '-halo')\n",
    "tmp_sub7 = os.path.join(varyfb + output_7 + '-halo')\n",
    "tmp_sub8 = os.path.join(varyfb + output_8 + '-halo')\n",
    "\n",
    "df_sub1 = pd.read_csv(tmp_sub1, comment='#', sep=' ', names=hdr_sub)\n",
    "df_sub2 = pd.read_csv(tmp_sub2, comment='#', sep=' ', names=hdr_sub)\n",
    "df_sub3 = pd.read_csv(tmp_sub3, comment='#', sep=' ', names=hdr_sub)\n",
    "df_sub4 = pd.read_csv(tmp_sub4, comment='#', sep=' ', names=hdr_sub)\n",
    "df_sub7 = pd.read_csv(tmp_sub7, comment='#', sep=' ', names=hdr_sub)\n",
    "df_sub8 = pd.read_csv(tmp_sub8, comment='#', sep=' ', names=hdr_sub)\n",
    "\n",
    "tmp_tree_12 = os.path.join(varyfb + 'tree-' + name_1 + '-' + name_2 + '.pdf')\n",
    "tmp_tree_13 = os.path.join(varyfb + 'tree-' + name_1 + '-' + name_3 + '.pdf')\n",
    "tmp_tree_14 = os.path.join(varyfb + 'tree-' + name_1 + '-' + name_4 + '.pdf')\n",
    "tmp_tree_78 = os.path.join(varyfb + 'tree-' + name_7 + '-' + name_8 + '.pdf')\n"
   ]
  },
  {
   "cell_type": "markdown",
   "metadata": {},
   "source": [
    "## The loop"
   ]
  },
  {
   "cell_type": "code",
   "execution_count": 3,
   "metadata": {},
   "outputs": [
    {
     "name": "stderr",
     "output_type": "stream",
     "text": [
      "Loading...: 100%|██████████| 243/243 [01:03<00:00,  3.92it/s]\n"
     ]
    }
   ],
   "source": [
    "# 1 and 2\n",
    "tmp_com_12 = os.path.join(varyfb + 'common-' + name_1 + '-' + name_2)\n",
    "with open(tmp_com_12, 'w') as com_12:\n",
    "    wr = csv.writer(com_12, delimiter=' ', lineterminator='\\n')\n",
    "    wr.writerow(['#output_1:', output_1])\n",
    "    wr.writerow(['#output_2:', output_2])\n",
    "    wr.writerow(['#sub_id_1', 'sub_id_2', 'np_1', 'np_2', 'np_common', 'percent_1', 'percent_2'])\n",
    "    for i in tqdm(range(max(df1.ext_id)), desc='Loading...'):\n",
    "        for j in range(max(df2.ext_id)):\n",
    "            arr1 = array(df1.p_id[df1.ext_id == i])\n",
    "            arr2 = array(df2.p_id[df2.ext_id == j])\n",
    "            if len(intersect1d(arr1, arr2)) != 0:\n",
    "                common = len(intersect1d(arr1, arr2))\n",
    "                percent_1 = int((common/len(arr1))*100)\n",
    "                percent_2 = int((common/len(arr2))*100)\n",
    "                wr.writerow([i, j, len(arr1), len(arr2), common, percent_1, percent_2])\n",
    "    com_12.close()"
   ]
  },
  {
   "cell_type": "code",
   "execution_count": 92,
   "metadata": {},
   "outputs": [
    {
     "name": "stderr",
     "output_type": "stream",
     "text": [
      "Loading...: 100%|██████████| 248/248 [00:59<00:00,  4.28it/s]\n"
     ]
    }
   ],
   "source": [
    "# 2 and 1\n",
    "tmp_com_21 = os.path.join(varyfb + 'common-' + name_2 + '-' + name_1)\n",
    "with open(tmp_com_21, 'w') as com_21:\n",
    "    wr = csv.writer(com_21, delimiter=' ', lineterminator='\\n')\n",
    "    wr.writerow(['#output_1:', output_1])\n",
    "    wr.writerow(['#output_2:', output_2])\n",
    "    wr.writerow(['#sub_id_2', 'sub_id_1', 'np_2', 'np_1', 'np_common', 'percent_2', 'percent_1'])\n",
    "    for i in tqdm(range(max(df2.ext_id)), desc='Loading...'):\n",
    "        for j in range(max(df1.ext_id)):\n",
    "            arr1 = array(df2.p_id[df2.ext_id == i])\n",
    "            arr2 = array(df1.p_id[df1.ext_id == j])\n",
    "            if len(intersect1d(arr1, arr2)) != 0:\n",
    "                common = len(intersect1d(arr1, arr2))\n",
    "                percent_1 = int((common/len(arr1))*100)\n",
    "                percent_2 = int((common/len(arr2))*100)\n",
    "                wr.writerow([i, j, len(arr1), len(arr2), common, percent_1, percent_2])\n",
    "    com_21.close()"
   ]
  },
  {
   "cell_type": "code",
   "execution_count": 27,
   "metadata": {},
   "outputs": [
    {
     "name": "stderr",
     "output_type": "stream",
     "text": [
      "Loading...: 100%|██████████| 243/243 [00:11<00:00, 21.34it/s]\n"
     ]
    }
   ],
   "source": [
    "tmp_com_13 = os.path.join(varyfb + 'common-' + name_1 + '-' + name_3)\n",
    "with open(tmp_com_13, 'w') as com_13:\n",
    "    wr = csv.writer(com_13, delimiter=' ', lineterminator='\\n')\n",
    "    wr.writerow(['#output_1:', output_1])\n",
    "    wr.writerow(['#output_2:', output_3])\n",
    "    wr.writerow(['#sub_id_1', 'sub_id_2', 'np_1', 'np_2', 'np_common', 'percent_1', 'percent_2'])\n",
    "    for i in tqdm(range(max(df1.ext_id)), desc='Loading...'):\n",
    "        for j in range(max(df3.ext_id)):\n",
    "            arr1 = array(df1.p_id[df1.ext_id == i])\n",
    "            arr2 = array(df3.p_id[df3.ext_id == j])\n",
    "            if len(intersect1d(arr1, arr2)) != 0:\n",
    "                common = len(intersect1d(arr1, arr2))\n",
    "                percent_1 = int((common/len(arr1))*100)\n",
    "                percent_2 = int((common/len(arr2))*100)\n",
    "                wr.writerow([i, j, len(arr1), len(arr2), common, percent_1, percent_2])\n",
    "    com_13.close()"
   ]
  },
  {
   "cell_type": "code",
   "execution_count": 98,
   "metadata": {},
   "outputs": [
    {
     "name": "stderr",
     "output_type": "stream",
     "text": [
      "Loading...: 100%|██████████| 243/243 [00:13<00:00, 18.15it/s]\n"
     ]
    }
   ],
   "source": [
    "tmp_com_14 = os.path.join(varyfb + 'common-' + name_1 + '-' + name_4)\n",
    "with open(tmp_com_14, 'w') as com_14:\n",
    "    wr = csv.writer(com_14, delimiter=' ', lineterminator='\\n')\n",
    "    wr.writerow(['#output_1:', output_1])\n",
    "    wr.writerow(['#output_2:', output_4])\n",
    "    wr.writerow(['#sub_id_1', 'sub_id_2', 'np_1', 'np_2', 'np_common', 'percent_1', 'percent_2'])\n",
    "    for i in tqdm(range(max(df1.ext_id)), desc='Loading...'):\n",
    "        for j in range(max(df4.ext_id)):\n",
    "            arr1 = array(df1.p_id[df1.ext_id == i])\n",
    "            arr2 = array(df4.p_id[df4.ext_id == j])\n",
    "            if len(intersect1d(arr1, arr2)) != 0:\n",
    "                common = len(intersect1d(arr1, arr2))\n",
    "                percent_1 = int((common/len(arr1))*100)\n",
    "                percent_2 = int((common/len(arr2))*100)\n",
    "                wr.writerow([i, j, len(arr1), len(arr2), common, percent_1, percent_2])\n",
    "    com_13.close()"
   ]
  },
  {
   "cell_type": "code",
   "execution_count": null,
   "metadata": {
    "collapsed": true
   },
   "outputs": [],
   "source": [
    "tmp_com_23 = os.path.join(varyfb + 'common-' + name_2 + '-' + name_3)\n",
    "with open(tmp_com_23, 'w') as com_23:\n",
    "    wr = csv.writer(com_23, delimiter=' ', lineterminator='\\n')\n",
    "    wr.writerow(['#output_1:', output_2])\n",
    "    wr.writerow(['#output_2:', output_3])\n",
    "    wr.writerow(['#sub_id_1', 'sub_id_2', 'np_1', 'np_2', 'np_common', 'percent_1', 'percent_2'])\n",
    "    for i in tqdm(range(max(df2.ext_id)), desc='Loading...'):\n",
    "        for j in range(max(df3.ext_id)):\n",
    "            arr1 = array(df2.p_id[df2.ext_id == i])\n",
    "            arr2 = array(df3.p_id[df3.ext_id == j])\n",
    "            if len(intersect1d(arr1, arr2)) != 0:\n",
    "                common = len(intersect1d(arr1, arr2))\n",
    "                percent_1 = int((common/len(arr1))*100)\n",
    "                percent_2 = int((common/len(arr2))*100)\n",
    "                wr.writerow([i, j, len(arr1), len(arr2), common, percent_1, percent_2])\n",
    "    com_23.close()"
   ]
  },
  {
   "cell_type": "code",
   "execution_count": 77,
   "metadata": {},
   "outputs": [
    {
     "name": "stderr",
     "output_type": "stream",
     "text": [
      "Loading...: 100%|██████████| 248/248 [00:13<00:00, 18.83it/s]\n"
     ]
    }
   ],
   "source": [
    "tmp_com_24 = os.path.join(varyfb + 'common-' + name_2 + '-' + name_4)\n",
    "with open(tmp_com_24, 'w') as com_24:\n",
    "    wr = csv.writer(com_24, delimiter=' ', lineterminator='\\n')\n",
    "    wr.writerow(['#output_1:', output_2])\n",
    "    wr.writerow(['#output_2:', output_4])\n",
    "    wr.writerow(['#sub_id_1', 'sub_id_2', 'np_1', 'np_2', 'np_common', 'percent_1', 'percent_2'])\n",
    "    for i in tqdm(range(max(df2.ext_id)), desc='Loading...'):\n",
    "        for j in range(max(df4.ext_id)):\n",
    "            arr1 = array(df2.p_id[df2.ext_id == i])\n",
    "            arr2 = array(df4.p_id[df4.ext_id == j])\n",
    "            if len(intersect1d(arr1, arr2)) != 0:\n",
    "                common = len(intersect1d(arr1, arr2))\n",
    "                percent_1 = int((common/len(arr1))*100)\n",
    "                percent_2 = int((common/len(arr2))*100)\n",
    "                wr.writerow([i, j, len(arr1), len(arr2), common, percent_1, percent_2])\n",
    "    com_24.close()    "
   ]
  },
  {
   "cell_type": "code",
   "execution_count": 3,
   "metadata": {
    "scrolled": true
   },
   "outputs": [
    {
     "name": "stderr",
     "output_type": "stream",
     "text": [
      "Loading...: 100%|██████████| 35/35 [00:02<00:00, 14.00it/s]\n"
     ]
    },
    {
     "name": "stdout",
     "output_type": "stream",
     "text": [
      "finish\n"
     ]
    }
   ],
   "source": [
    "tmp_com_34 = os.path.join(varyfb + 'common-' + name_3 + '-' + name_4)\n",
    "with open(tmp_com_34, 'w') as com_34:\n",
    "    wr = csv.writer(com_34, delimiter=' ', lineterminator='\\n')\n",
    "    wr.writerow(['#output_1:', output_3])\n",
    "    wr.writerow(['#output_2:', output_4])\n",
    "    wr.writerow(['#sub_id_1', 'sub_id_2', 'np_1', 'np_2', 'np_common', 'percent_1', 'percent_2'])\n",
    "    for i in tqdm(range(max(df3.ext_id)), desc='Loading...'):\n",
    "        for j in range(max(df4.ext_id)):\n",
    "            arr1 = array(df3.p_id[df3.ext_id == i])\n",
    "            arr2 = array(df4.p_id[df4.ext_id == j])\n",
    "            if len(intersect1d(arr1, arr2)) != 0:\n",
    "                common = len(intersect1d(arr1, arr2))\n",
    "                percent_1 = int((common/len(arr1))*100)\n",
    "                percent_2 = int((common/len(arr2))*100)\n",
    "                wr.writerow([i, j, len(arr1), len(arr2), common, percent_1, percent_2])\n",
    "    com_34.close()\n",
    "    \n",
    "print('finish')"
   ]
  },
  {
   "cell_type": "code",
   "execution_count": 36,
   "metadata": {},
   "outputs": [
    {
     "name": "stderr",
     "output_type": "stream",
     "text": [
      "Loading...: 100%|██████████| 71/71 [00:35<00:00,  2.01it/s]\n"
     ]
    }
   ],
   "source": [
    "# 8 and 7\n",
    "df1 = df8\n",
    "df2 = df7\n",
    "tmp_com_12 = os.path.join(varyfb + 'common-exp4-exp1')\n",
    "\n",
    "\n",
    "with open(tmp_com_12, 'w') as com_12:\n",
    "    wr = csv.writer(com_12, delimiter=' ', lineterminator='\\n')\n",
    "    wr.writerow(['#output_1:', output_7])\n",
    "    wr.writerow(['#output_4:', output_8])\n",
    "    wr.writerow(['#sub_id_4', 'sub_id_1', 'np_4', 'np_1', 'np_common', 'percent_4', 'percent_1'])\n",
    "    for i in tqdm(range(max(df1.ext_id)), desc='Loading...'):\n",
    "        for j in range(max(df2.ext_id)):\n",
    "            arr1 = array(df1.p_id[df1.ext_id == i])\n",
    "            arr2 = array(df2.p_id[df2.ext_id == j])\n",
    "            if len(intersect1d(arr1, arr2)) != 0:\n",
    "                common = len(intersect1d(arr1, arr2))\n",
    "                percent_1 = int((common/len(arr1))*100)\n",
    "                percent_2 = int((common/len(arr2))*100)\n",
    "                wr.writerow([i, j, len(arr1), len(arr2), common, percent_1, percent_2])\n",
    "    com_12.close()"
   ]
  },
  {
   "cell_type": "markdown",
   "metadata": {},
   "source": [
    "## Comparison 7 and 8"
   ]
  },
  {
   "cell_type": "code",
   "execution_count": 33,
   "metadata": {},
   "outputs": [],
   "source": [
    "tmp_com_12 = os.path.join(varyfb + 'common-exp1-exp4')\n",
    "hdr_com = ['sub_id_1', 'sub_id_2', 'np_1', 'np_2', 'np_common', 'percent_1', 'percent_2'] #substructure ID, number of particle\n",
    "df_com_12  = pd.read_csv(tmp_com_12, sep=' ', comment='#', names=hdr_com)\n",
    "\n",
    "df = df_com_12"
   ]
  },
  {
   "cell_type": "code",
   "execution_count": 34,
   "metadata": {},
   "outputs": [
    {
     "data": {
      "text/plain": [
       "'/net/virgo01/data/users/virgini/rockstar/RC3/output/common-exp1-exp4'"
      ]
     },
     "execution_count": 34,
     "metadata": {},
     "output_type": "execute_result"
    }
   ],
   "source": [
    "tmp_com_12"
   ]
  },
  {
   "cell_type": "markdown",
   "metadata": {},
   "source": [
    "### Comparion 1 and 2"
   ]
  },
  {
   "cell_type": "code",
   "execution_count": 30,
   "metadata": {
    "scrolled": false
   },
   "outputs": [
    {
     "data": {
      "text/html": [
       "<div>\n",
       "<style scoped>\n",
       "    .dataframe tbody tr th:only-of-type {\n",
       "        vertical-align: middle;\n",
       "    }\n",
       "\n",
       "    .dataframe tbody tr th {\n",
       "        vertical-align: top;\n",
       "    }\n",
       "\n",
       "    .dataframe thead th {\n",
       "        text-align: right;\n",
       "    }\n",
       "</style>\n",
       "<table border=\"1\" class=\"dataframe\">\n",
       "  <thead>\n",
       "    <tr style=\"text-align: right;\">\n",
       "      <th></th>\n",
       "      <th>sub_id_1</th>\n",
       "      <th>sub_id_2</th>\n",
       "      <th>np_1</th>\n",
       "      <th>np_2</th>\n",
       "      <th>np_common</th>\n",
       "      <th>percent_1</th>\n",
       "      <th>percent_2</th>\n",
       "    </tr>\n",
       "  </thead>\n",
       "  <tbody>\n",
       "    <tr>\n",
       "      <th>66</th>\n",
       "      <td>66</td>\n",
       "      <td>66</td>\n",
       "      <td>155</td>\n",
       "      <td>28</td>\n",
       "      <td>28</td>\n",
       "      <td>18</td>\n",
       "      <td>100</td>\n",
       "    </tr>\n",
       "    <tr>\n",
       "      <th>67</th>\n",
       "      <td>66</td>\n",
       "      <td>67</td>\n",
       "      <td>155</td>\n",
       "      <td>127</td>\n",
       "      <td>127</td>\n",
       "      <td>81</td>\n",
       "      <td>100</td>\n",
       "    </tr>\n",
       "    <tr>\n",
       "      <th>167</th>\n",
       "      <td>167</td>\n",
       "      <td>168</td>\n",
       "      <td>115</td>\n",
       "      <td>76</td>\n",
       "      <td>76</td>\n",
       "      <td>66</td>\n",
       "      <td>100</td>\n",
       "    </tr>\n",
       "    <tr>\n",
       "      <th>168</th>\n",
       "      <td>167</td>\n",
       "      <td>169</td>\n",
       "      <td>115</td>\n",
       "      <td>39</td>\n",
       "      <td>39</td>\n",
       "      <td>33</td>\n",
       "      <td>100</td>\n",
       "    </tr>\n",
       "    <tr>\n",
       "      <th>221</th>\n",
       "      <td>208</td>\n",
       "      <td>206</td>\n",
       "      <td>1498</td>\n",
       "      <td>11</td>\n",
       "      <td>11</td>\n",
       "      <td>0</td>\n",
       "      <td>100</td>\n",
       "    </tr>\n",
       "    <tr>\n",
       "      <th>238</th>\n",
       "      <td>212</td>\n",
       "      <td>204</td>\n",
       "      <td>1881</td>\n",
       "      <td>56</td>\n",
       "      <td>56</td>\n",
       "      <td>2</td>\n",
       "      <td>100</td>\n",
       "    </tr>\n",
       "    <tr>\n",
       "      <th>273</th>\n",
       "      <td>224</td>\n",
       "      <td>228</td>\n",
       "      <td>164</td>\n",
       "      <td>140</td>\n",
       "      <td>140</td>\n",
       "      <td>85</td>\n",
       "      <td>100</td>\n",
       "    </tr>\n",
       "    <tr>\n",
       "      <th>274</th>\n",
       "      <td>224</td>\n",
       "      <td>229</td>\n",
       "      <td>164</td>\n",
       "      <td>24</td>\n",
       "      <td>24</td>\n",
       "      <td>14</td>\n",
       "      <td>100</td>\n",
       "    </tr>\n",
       "  </tbody>\n",
       "</table>\n",
       "</div>"
      ],
      "text/plain": [
       "     sub_id_1  sub_id_2  np_1  np_2  np_common  percent_1  percent_2\n",
       "66         66        66   155    28         28         18        100\n",
       "67         66        67   155   127        127         81        100\n",
       "167       167       168   115    76         76         66        100\n",
       "168       167       169   115    39         39         33        100\n",
       "221       208       206  1498    11         11          0        100\n",
       "238       212       204  1881    56         56          2        100\n",
       "273       224       228   164   140        140         85        100\n",
       "274       224       229   164    24         24         14        100"
      ]
     },
     "execution_count": 30,
     "metadata": {},
     "output_type": "execute_result"
    }
   ],
   "source": [
    "tmp_com_12 = os.path.join(varyfb + 'common-' + name_1 + '-' + name_2)\n",
    "hdr_com = ['sub_id_1', 'sub_id_2', 'np_1', 'np_2', 'np_common', 'percent_1', 'percent_2'] #substructure ID, number of particle\n",
    "df_com_12  = pd.read_csv(tmp_com_12, sep=' ', comment='#', names=hdr_com)\n",
    "\n",
    "df = df_com_12\n",
    "# array(df.sub_id_1)\n",
    "\n",
    "#choose significant commonality: 100% on both side\n",
    "df[(df.percent_1 != 100) & (df.percent_2 == 100)]\n",
    "# len(df[(df.percent_1 == 100) & (df.percent_2 == 100)])/len(unique(df2.ext_id))\n",
    "\n",
    "# examine the ones that are less than 100%\n",
    "# df[(df.percent_1 != 100) & (df.percent_2 != 100)]\n",
    "# df[(df.percent_1 < 100) & (df.percent_2 < 100) & (df.np_1 < df.np_2) & (df.percent_1 >= 30)]\n",
    "# df[(df.percent_1 < 100) & (df.percent_2 < 100) & (df.percent_1 >= 30) & (df.percent_2 >= 30)]\n",
    "# df[(df.percent_1 < 100) & (df.percent_2 < 100) & (df.np_1 == 1498)]\n",
    "# df[(df.percent_1 < 100) & (df.percent_2 < 100) & (df.np_1 == 1881)]\n",
    "# df[(df.percent_1 < 100) & (df.percent_2 < 100) & (df.np_2 == 2914)]\n",
    "\n",
    "# df_com[(df_com.percent_1 > 50) & (df_com.percent_2 > 50)]\n",
    "# df[(df.percent_1 >= 30) & (df.percent_2 >= 30)]\n",
    "# df_com[df_com.sub_id_2 == 132]\n",
    "\n",
    "# arr12 = df_com_12.sub_id_1[(df_com_12.percent_1 > 50) & (df_com_12.percent_2 > 50)].values"
   ]
  },
  {
   "cell_type": "markdown",
   "metadata": {},
   "source": [
    "### Comparion 2 and 1"
   ]
  },
  {
   "cell_type": "code",
   "execution_count": 20,
   "metadata": {
    "scrolled": false
   },
   "outputs": [
    {
     "data": {
      "text/html": [
       "<div>\n",
       "<style>\n",
       "    .dataframe thead tr:only-child th {\n",
       "        text-align: right;\n",
       "    }\n",
       "\n",
       "    .dataframe thead th {\n",
       "        text-align: left;\n",
       "    }\n",
       "\n",
       "    .dataframe tbody tr th {\n",
       "        vertical-align: top;\n",
       "    }\n",
       "</style>\n",
       "<table border=\"1\" class=\"dataframe\">\n",
       "  <thead>\n",
       "    <tr style=\"text-align: right;\">\n",
       "      <th></th>\n",
       "      <th>sub_id_2</th>\n",
       "      <th>sub_id_1</th>\n",
       "      <th>np_2</th>\n",
       "      <th>np_1</th>\n",
       "      <th>np_common</th>\n",
       "      <th>percent_2</th>\n",
       "      <th>percent_1</th>\n",
       "    </tr>\n",
       "  </thead>\n",
       "  <tbody>\n",
       "    <tr>\n",
       "      <th>202</th>\n",
       "      <td>203</td>\n",
       "      <td>208</td>\n",
       "      <td>206</td>\n",
       "      <td>1498</td>\n",
       "      <td>81</td>\n",
       "      <td>39</td>\n",
       "      <td>5</td>\n",
       "    </tr>\n",
       "    <tr>\n",
       "      <th>203</th>\n",
       "      <td>203</td>\n",
       "      <td>211</td>\n",
       "      <td>206</td>\n",
       "      <td>98</td>\n",
       "      <td>90</td>\n",
       "      <td>43</td>\n",
       "      <td>91</td>\n",
       "    </tr>\n",
       "    <tr>\n",
       "      <th>204</th>\n",
       "      <td>203</td>\n",
       "      <td>212</td>\n",
       "      <td>206</td>\n",
       "      <td>1881</td>\n",
       "      <td>35</td>\n",
       "      <td>16</td>\n",
       "      <td>1</td>\n",
       "    </tr>\n",
       "    <tr>\n",
       "      <th>206</th>\n",
       "      <td>205</td>\n",
       "      <td>201</td>\n",
       "      <td>17</td>\n",
       "      <td>25</td>\n",
       "      <td>16</td>\n",
       "      <td>94</td>\n",
       "      <td>64</td>\n",
       "    </tr>\n",
       "    <tr>\n",
       "      <th>207</th>\n",
       "      <td>205</td>\n",
       "      <td>212</td>\n",
       "      <td>17</td>\n",
       "      <td>1881</td>\n",
       "      <td>1</td>\n",
       "      <td>5</td>\n",
       "      <td>0</td>\n",
       "    </tr>\n",
       "    <tr>\n",
       "      <th>209</th>\n",
       "      <td>207</td>\n",
       "      <td>206</td>\n",
       "      <td>13</td>\n",
       "      <td>20</td>\n",
       "      <td>8</td>\n",
       "      <td>61</td>\n",
       "      <td>40</td>\n",
       "    </tr>\n",
       "    <tr>\n",
       "      <th>210</th>\n",
       "      <td>207</td>\n",
       "      <td>208</td>\n",
       "      <td>13</td>\n",
       "      <td>1498</td>\n",
       "      <td>5</td>\n",
       "      <td>38</td>\n",
       "      <td>0</td>\n",
       "    </tr>\n",
       "    <tr>\n",
       "      <th>211</th>\n",
       "      <td>208</td>\n",
       "      <td>212</td>\n",
       "      <td>16</td>\n",
       "      <td>1881</td>\n",
       "      <td>6</td>\n",
       "      <td>37</td>\n",
       "      <td>0</td>\n",
       "    </tr>\n",
       "    <tr>\n",
       "      <th>212</th>\n",
       "      <td>208</td>\n",
       "      <td>214</td>\n",
       "      <td>16</td>\n",
       "      <td>277</td>\n",
       "      <td>10</td>\n",
       "      <td>62</td>\n",
       "      <td>3</td>\n",
       "    </tr>\n",
       "    <tr>\n",
       "      <th>213</th>\n",
       "      <td>209</td>\n",
       "      <td>203</td>\n",
       "      <td>58</td>\n",
       "      <td>68</td>\n",
       "      <td>49</td>\n",
       "      <td>84</td>\n",
       "      <td>72</td>\n",
       "    </tr>\n",
       "    <tr>\n",
       "      <th>214</th>\n",
       "      <td>209</td>\n",
       "      <td>207</td>\n",
       "      <td>58</td>\n",
       "      <td>54</td>\n",
       "      <td>3</td>\n",
       "      <td>5</td>\n",
       "      <td>5</td>\n",
       "    </tr>\n",
       "    <tr>\n",
       "      <th>215</th>\n",
       "      <td>209</td>\n",
       "      <td>208</td>\n",
       "      <td>58</td>\n",
       "      <td>1498</td>\n",
       "      <td>5</td>\n",
       "      <td>8</td>\n",
       "      <td>0</td>\n",
       "    </tr>\n",
       "    <tr>\n",
       "      <th>216</th>\n",
       "      <td>209</td>\n",
       "      <td>212</td>\n",
       "      <td>58</td>\n",
       "      <td>1881</td>\n",
       "      <td>1</td>\n",
       "      <td>1</td>\n",
       "      <td>0</td>\n",
       "    </tr>\n",
       "    <tr>\n",
       "      <th>217</th>\n",
       "      <td>210</td>\n",
       "      <td>212</td>\n",
       "      <td>200</td>\n",
       "      <td>1881</td>\n",
       "      <td>196</td>\n",
       "      <td>98</td>\n",
       "      <td>10</td>\n",
       "    </tr>\n",
       "    <tr>\n",
       "      <th>218</th>\n",
       "      <td>210</td>\n",
       "      <td>213</td>\n",
       "      <td>200</td>\n",
       "      <td>66</td>\n",
       "      <td>2</td>\n",
       "      <td>1</td>\n",
       "      <td>3</td>\n",
       "    </tr>\n",
       "    <tr>\n",
       "      <th>219</th>\n",
       "      <td>210</td>\n",
       "      <td>215</td>\n",
       "      <td>200</td>\n",
       "      <td>139</td>\n",
       "      <td>2</td>\n",
       "      <td>1</td>\n",
       "      <td>1</td>\n",
       "    </tr>\n",
       "    <tr>\n",
       "      <th>220</th>\n",
       "      <td>211</td>\n",
       "      <td>205</td>\n",
       "      <td>93</td>\n",
       "      <td>30</td>\n",
       "      <td>1</td>\n",
       "      <td>1</td>\n",
       "      <td>3</td>\n",
       "    </tr>\n",
       "    <tr>\n",
       "      <th>221</th>\n",
       "      <td>211</td>\n",
       "      <td>212</td>\n",
       "      <td>93</td>\n",
       "      <td>1881</td>\n",
       "      <td>92</td>\n",
       "      <td>98</td>\n",
       "      <td>4</td>\n",
       "    </tr>\n",
       "    <tr>\n",
       "      <th>222</th>\n",
       "      <td>212</td>\n",
       "      <td>212</td>\n",
       "      <td>24</td>\n",
       "      <td>1881</td>\n",
       "      <td>8</td>\n",
       "      <td>33</td>\n",
       "      <td>0</td>\n",
       "    </tr>\n",
       "    <tr>\n",
       "      <th>223</th>\n",
       "      <td>212</td>\n",
       "      <td>215</td>\n",
       "      <td>24</td>\n",
       "      <td>139</td>\n",
       "      <td>16</td>\n",
       "      <td>66</td>\n",
       "      <td>11</td>\n",
       "    </tr>\n",
       "    <tr>\n",
       "      <th>224</th>\n",
       "      <td>213</td>\n",
       "      <td>202</td>\n",
       "      <td>104</td>\n",
       "      <td>45</td>\n",
       "      <td>14</td>\n",
       "      <td>13</td>\n",
       "      <td>31</td>\n",
       "    </tr>\n",
       "    <tr>\n",
       "      <th>225</th>\n",
       "      <td>213</td>\n",
       "      <td>205</td>\n",
       "      <td>104</td>\n",
       "      <td>30</td>\n",
       "      <td>9</td>\n",
       "      <td>8</td>\n",
       "      <td>30</td>\n",
       "    </tr>\n",
       "    <tr>\n",
       "      <th>226</th>\n",
       "      <td>213</td>\n",
       "      <td>208</td>\n",
       "      <td>104</td>\n",
       "      <td>1498</td>\n",
       "      <td>15</td>\n",
       "      <td>14</td>\n",
       "      <td>1</td>\n",
       "    </tr>\n",
       "    <tr>\n",
       "      <th>227</th>\n",
       "      <td>213</td>\n",
       "      <td>212</td>\n",
       "      <td>104</td>\n",
       "      <td>1881</td>\n",
       "      <td>61</td>\n",
       "      <td>58</td>\n",
       "      <td>3</td>\n",
       "    </tr>\n",
       "    <tr>\n",
       "      <th>228</th>\n",
       "      <td>213</td>\n",
       "      <td>215</td>\n",
       "      <td>104</td>\n",
       "      <td>139</td>\n",
       "      <td>5</td>\n",
       "      <td>4</td>\n",
       "      <td>3</td>\n",
       "    </tr>\n",
       "    <tr>\n",
       "      <th>229</th>\n",
       "      <td>214</td>\n",
       "      <td>201</td>\n",
       "      <td>2914</td>\n",
       "      <td>25</td>\n",
       "      <td>8</td>\n",
       "      <td>0</td>\n",
       "      <td>32</td>\n",
       "    </tr>\n",
       "    <tr>\n",
       "      <th>230</th>\n",
       "      <td>214</td>\n",
       "      <td>202</td>\n",
       "      <td>2914</td>\n",
       "      <td>45</td>\n",
       "      <td>31</td>\n",
       "      <td>1</td>\n",
       "      <td>68</td>\n",
       "    </tr>\n",
       "    <tr>\n",
       "      <th>231</th>\n",
       "      <td>214</td>\n",
       "      <td>203</td>\n",
       "      <td>2914</td>\n",
       "      <td>68</td>\n",
       "      <td>15</td>\n",
       "      <td>0</td>\n",
       "      <td>22</td>\n",
       "    </tr>\n",
       "    <tr>\n",
       "      <th>233</th>\n",
       "      <td>214</td>\n",
       "      <td>205</td>\n",
       "      <td>2914</td>\n",
       "      <td>30</td>\n",
       "      <td>20</td>\n",
       "      <td>0</td>\n",
       "      <td>66</td>\n",
       "    </tr>\n",
       "    <tr>\n",
       "      <th>234</th>\n",
       "      <td>214</td>\n",
       "      <td>206</td>\n",
       "      <td>2914</td>\n",
       "      <td>20</td>\n",
       "      <td>12</td>\n",
       "      <td>0</td>\n",
       "      <td>60</td>\n",
       "    </tr>\n",
       "    <tr>\n",
       "      <th>235</th>\n",
       "      <td>214</td>\n",
       "      <td>207</td>\n",
       "      <td>2914</td>\n",
       "      <td>54</td>\n",
       "      <td>3</td>\n",
       "      <td>0</td>\n",
       "      <td>5</td>\n",
       "    </tr>\n",
       "    <tr>\n",
       "      <th>236</th>\n",
       "      <td>214</td>\n",
       "      <td>208</td>\n",
       "      <td>2914</td>\n",
       "      <td>1498</td>\n",
       "      <td>1309</td>\n",
       "      <td>44</td>\n",
       "      <td>87</td>\n",
       "    </tr>\n",
       "    <tr>\n",
       "      <th>237</th>\n",
       "      <td>214</td>\n",
       "      <td>209</td>\n",
       "      <td>2914</td>\n",
       "      <td>32</td>\n",
       "      <td>28</td>\n",
       "      <td>0</td>\n",
       "      <td>87</td>\n",
       "    </tr>\n",
       "    <tr>\n",
       "      <th>238</th>\n",
       "      <td>214</td>\n",
       "      <td>210</td>\n",
       "      <td>2914</td>\n",
       "      <td>15</td>\n",
       "      <td>4</td>\n",
       "      <td>0</td>\n",
       "      <td>26</td>\n",
       "    </tr>\n",
       "    <tr>\n",
       "      <th>239</th>\n",
       "      <td>214</td>\n",
       "      <td>211</td>\n",
       "      <td>2914</td>\n",
       "      <td>98</td>\n",
       "      <td>7</td>\n",
       "      <td>0</td>\n",
       "      <td>7</td>\n",
       "    </tr>\n",
       "    <tr>\n",
       "      <th>240</th>\n",
       "      <td>214</td>\n",
       "      <td>212</td>\n",
       "      <td>2914</td>\n",
       "      <td>1881</td>\n",
       "      <td>1212</td>\n",
       "      <td>41</td>\n",
       "      <td>64</td>\n",
       "    </tr>\n",
       "    <tr>\n",
       "      <th>241</th>\n",
       "      <td>214</td>\n",
       "      <td>213</td>\n",
       "      <td>2914</td>\n",
       "      <td>66</td>\n",
       "      <td>5</td>\n",
       "      <td>0</td>\n",
       "      <td>7</td>\n",
       "    </tr>\n",
       "    <tr>\n",
       "      <th>242</th>\n",
       "      <td>214</td>\n",
       "      <td>214</td>\n",
       "      <td>2914</td>\n",
       "      <td>277</td>\n",
       "      <td>126</td>\n",
       "      <td>4</td>\n",
       "      <td>45</td>\n",
       "    </tr>\n",
       "    <tr>\n",
       "      <th>243</th>\n",
       "      <td>214</td>\n",
       "      <td>215</td>\n",
       "      <td>2914</td>\n",
       "      <td>139</td>\n",
       "      <td>112</td>\n",
       "      <td>3</td>\n",
       "      <td>80</td>\n",
       "    </tr>\n",
       "    <tr>\n",
       "      <th>244</th>\n",
       "      <td>215</td>\n",
       "      <td>208</td>\n",
       "      <td>66</td>\n",
       "      <td>1498</td>\n",
       "      <td>2</td>\n",
       "      <td>3</td>\n",
       "      <td>0</td>\n",
       "    </tr>\n",
       "    <tr>\n",
       "      <th>245</th>\n",
       "      <td>215</td>\n",
       "      <td>212</td>\n",
       "      <td>66</td>\n",
       "      <td>1881</td>\n",
       "      <td>43</td>\n",
       "      <td>65</td>\n",
       "      <td>2</td>\n",
       "    </tr>\n",
       "    <tr>\n",
       "      <th>246</th>\n",
       "      <td>215</td>\n",
       "      <td>213</td>\n",
       "      <td>66</td>\n",
       "      <td>66</td>\n",
       "      <td>9</td>\n",
       "      <td>13</td>\n",
       "      <td>13</td>\n",
       "    </tr>\n",
       "    <tr>\n",
       "      <th>247</th>\n",
       "      <td>215</td>\n",
       "      <td>214</td>\n",
       "      <td>66</td>\n",
       "      <td>277</td>\n",
       "      <td>12</td>\n",
       "      <td>18</td>\n",
       "      <td>4</td>\n",
       "    </tr>\n",
       "    <tr>\n",
       "      <th>248</th>\n",
       "      <td>216</td>\n",
       "      <td>201</td>\n",
       "      <td>434</td>\n",
       "      <td>25</td>\n",
       "      <td>1</td>\n",
       "      <td>0</td>\n",
       "      <td>4</td>\n",
       "    </tr>\n",
       "    <tr>\n",
       "      <th>249</th>\n",
       "      <td>216</td>\n",
       "      <td>203</td>\n",
       "      <td>434</td>\n",
       "      <td>68</td>\n",
       "      <td>4</td>\n",
       "      <td>0</td>\n",
       "      <td>5</td>\n",
       "    </tr>\n",
       "    <tr>\n",
       "      <th>250</th>\n",
       "      <td>216</td>\n",
       "      <td>207</td>\n",
       "      <td>434</td>\n",
       "      <td>54</td>\n",
       "      <td>43</td>\n",
       "      <td>9</td>\n",
       "      <td>79</td>\n",
       "    </tr>\n",
       "    <tr>\n",
       "      <th>251</th>\n",
       "      <td>216</td>\n",
       "      <td>208</td>\n",
       "      <td>434</td>\n",
       "      <td>1498</td>\n",
       "      <td>56</td>\n",
       "      <td>12</td>\n",
       "      <td>3</td>\n",
       "    </tr>\n",
       "    <tr>\n",
       "      <th>252</th>\n",
       "      <td>216</td>\n",
       "      <td>209</td>\n",
       "      <td>434</td>\n",
       "      <td>32</td>\n",
       "      <td>4</td>\n",
       "      <td>0</td>\n",
       "      <td>12</td>\n",
       "    </tr>\n",
       "    <tr>\n",
       "      <th>253</th>\n",
       "      <td>216</td>\n",
       "      <td>210</td>\n",
       "      <td>434</td>\n",
       "      <td>15</td>\n",
       "      <td>11</td>\n",
       "      <td>2</td>\n",
       "      <td>73</td>\n",
       "    </tr>\n",
       "    <tr>\n",
       "      <th>254</th>\n",
       "      <td>216</td>\n",
       "      <td>212</td>\n",
       "      <td>434</td>\n",
       "      <td>1881</td>\n",
       "      <td>158</td>\n",
       "      <td>36</td>\n",
       "      <td>8</td>\n",
       "    </tr>\n",
       "    <tr>\n",
       "      <th>255</th>\n",
       "      <td>216</td>\n",
       "      <td>213</td>\n",
       "      <td>434</td>\n",
       "      <td>66</td>\n",
       "      <td>50</td>\n",
       "      <td>11</td>\n",
       "      <td>75</td>\n",
       "    </tr>\n",
       "    <tr>\n",
       "      <th>256</th>\n",
       "      <td>216</td>\n",
       "      <td>214</td>\n",
       "      <td>434</td>\n",
       "      <td>277</td>\n",
       "      <td>103</td>\n",
       "      <td>23</td>\n",
       "      <td>37</td>\n",
       "    </tr>\n",
       "    <tr>\n",
       "      <th>257</th>\n",
       "      <td>216</td>\n",
       "      <td>215</td>\n",
       "      <td>434</td>\n",
       "      <td>139</td>\n",
       "      <td>4</td>\n",
       "      <td>0</td>\n",
       "      <td>2</td>\n",
       "    </tr>\n",
       "    <tr>\n",
       "      <th>258</th>\n",
       "      <td>217</td>\n",
       "      <td>207</td>\n",
       "      <td>45</td>\n",
       "      <td>54</td>\n",
       "      <td>5</td>\n",
       "      <td>11</td>\n",
       "      <td>9</td>\n",
       "    </tr>\n",
       "    <tr>\n",
       "      <th>259</th>\n",
       "      <td>217</td>\n",
       "      <td>208</td>\n",
       "      <td>45</td>\n",
       "      <td>1498</td>\n",
       "      <td>10</td>\n",
       "      <td>22</td>\n",
       "      <td>0</td>\n",
       "    </tr>\n",
       "    <tr>\n",
       "      <th>260</th>\n",
       "      <td>217</td>\n",
       "      <td>212</td>\n",
       "      <td>45</td>\n",
       "      <td>1881</td>\n",
       "      <td>4</td>\n",
       "      <td>8</td>\n",
       "      <td>0</td>\n",
       "    </tr>\n",
       "    <tr>\n",
       "      <th>261</th>\n",
       "      <td>217</td>\n",
       "      <td>214</td>\n",
       "      <td>45</td>\n",
       "      <td>277</td>\n",
       "      <td>26</td>\n",
       "      <td>57</td>\n",
       "      <td>9</td>\n",
       "    </tr>\n",
       "    <tr>\n",
       "      <th>262</th>\n",
       "      <td>218</td>\n",
       "      <td>208</td>\n",
       "      <td>13</td>\n",
       "      <td>1498</td>\n",
       "      <td>4</td>\n",
       "      <td>30</td>\n",
       "      <td>0</td>\n",
       "    </tr>\n",
       "    <tr>\n",
       "      <th>263</th>\n",
       "      <td>218</td>\n",
       "      <td>211</td>\n",
       "      <td>13</td>\n",
       "      <td>98</td>\n",
       "      <td>1</td>\n",
       "      <td>7</td>\n",
       "      <td>1</td>\n",
       "    </tr>\n",
       "    <tr>\n",
       "      <th>264</th>\n",
       "      <td>218</td>\n",
       "      <td>212</td>\n",
       "      <td>13</td>\n",
       "      <td>1881</td>\n",
       "      <td>8</td>\n",
       "      <td>61</td>\n",
       "      <td>0</td>\n",
       "    </tr>\n",
       "  </tbody>\n",
       "</table>\n",
       "</div>"
      ],
      "text/plain": [
       "     sub_id_2  sub_id_1  np_2  np_1  np_common  percent_2  percent_1\n",
       "202       203       208   206  1498         81         39          5\n",
       "203       203       211   206    98         90         43         91\n",
       "204       203       212   206  1881         35         16          1\n",
       "206       205       201    17    25         16         94         64\n",
       "207       205       212    17  1881          1          5          0\n",
       "209       207       206    13    20          8         61         40\n",
       "210       207       208    13  1498          5         38          0\n",
       "211       208       212    16  1881          6         37          0\n",
       "212       208       214    16   277         10         62          3\n",
       "213       209       203    58    68         49         84         72\n",
       "214       209       207    58    54          3          5          5\n",
       "215       209       208    58  1498          5          8          0\n",
       "216       209       212    58  1881          1          1          0\n",
       "217       210       212   200  1881        196         98         10\n",
       "218       210       213   200    66          2          1          3\n",
       "219       210       215   200   139          2          1          1\n",
       "220       211       205    93    30          1          1          3\n",
       "221       211       212    93  1881         92         98          4\n",
       "222       212       212    24  1881          8         33          0\n",
       "223       212       215    24   139         16         66         11\n",
       "224       213       202   104    45         14         13         31\n",
       "225       213       205   104    30          9          8         30\n",
       "226       213       208   104  1498         15         14          1\n",
       "227       213       212   104  1881         61         58          3\n",
       "228       213       215   104   139          5          4          3\n",
       "229       214       201  2914    25          8          0         32\n",
       "230       214       202  2914    45         31          1         68\n",
       "231       214       203  2914    68         15          0         22\n",
       "233       214       205  2914    30         20          0         66\n",
       "234       214       206  2914    20         12          0         60\n",
       "235       214       207  2914    54          3          0          5\n",
       "236       214       208  2914  1498       1309         44         87\n",
       "237       214       209  2914    32         28          0         87\n",
       "238       214       210  2914    15          4          0         26\n",
       "239       214       211  2914    98          7          0          7\n",
       "240       214       212  2914  1881       1212         41         64\n",
       "241       214       213  2914    66          5          0          7\n",
       "242       214       214  2914   277        126          4         45\n",
       "243       214       215  2914   139        112          3         80\n",
       "244       215       208    66  1498          2          3          0\n",
       "245       215       212    66  1881         43         65          2\n",
       "246       215       213    66    66          9         13         13\n",
       "247       215       214    66   277         12         18          4\n",
       "248       216       201   434    25          1          0          4\n",
       "249       216       203   434    68          4          0          5\n",
       "250       216       207   434    54         43          9         79\n",
       "251       216       208   434  1498         56         12          3\n",
       "252       216       209   434    32          4          0         12\n",
       "253       216       210   434    15         11          2         73\n",
       "254       216       212   434  1881        158         36          8\n",
       "255       216       213   434    66         50         11         75\n",
       "256       216       214   434   277        103         23         37\n",
       "257       216       215   434   139          4          0          2\n",
       "258       217       207    45    54          5         11          9\n",
       "259       217       208    45  1498         10         22          0\n",
       "260       217       212    45  1881          4          8          0\n",
       "261       217       214    45   277         26         57          9\n",
       "262       218       208    13  1498          4         30          0\n",
       "263       218       211    13    98          1          7          1\n",
       "264       218       212    13  1881          8         61          0"
      ]
     },
     "execution_count": 20,
     "metadata": {},
     "output_type": "execute_result"
    }
   ],
   "source": [
    "tmp_com_21 = os.path.join(varyfb + 'common-' + name_2 + '-' + name_1)\n",
    "hdr_com = ['sub_id_2', 'sub_id_1', 'np_2', 'np_1', 'np_common', 'percent_2', 'percent_1'] #substructure ID, number of particle\n",
    "df_com_21  = pd.read_csv(tmp_com_21, sep=' ', comment='#', names=hdr_com)\n",
    "\n",
    "df = df_com_21\n",
    "\n",
    "#choose significant commonality: 100% on both side\n",
    "df[(df.percent_1 == 100) & (df.percent_2 == 100)]\n",
    "# len(df[(df.percent_1 == 100) & (df.percent_2 == 100)])/len(unique(df2.ext_id))\n",
    "\n",
    "# examine the ones that are less than 100%\n",
    "df[(df.percent_1 != 100) & (df.percent_2 != 100)]\n",
    "# df[(df.percent_1 < 100) & (df.percent_2 < 100) & (df.np_1 > df.np_2) & (df.percent_2 >= 50)]\n",
    "# df[(df.percent_1 < 100) & (df.percent_2 < 100) & (df.percent_1 >= 50) & (df.percent_2 >= 50)]\n",
    "# df[(df.percent_1 < 100) & (df.percent_2 < 100) & (df.np_1 == 1498)]\n",
    "# df[(df.percent_1 < 100) & (df.percent_2 < 100) & (df.np_1 == 1881)]\n",
    "# df[(df.percent_1 < 100) & (df.percent_2 < 100) & (df.np_2 == 2914)]\n",
    "\n",
    "# df_com[(df_com.percent_1 > 50) & (df_com.percent_2 > 50)]\n",
    "# df_com[(df_com.percent_1 >= 30) & (df_com.percent_2 >= 30)]\n",
    "# df_com[df_com.sub_id_2 == 132]\n",
    "\n",
    "# arr12 = df_com_12.sub_id_1[(df_com_12.percent_1 > 50) & (df_com_12.percent_2 > 50)].values"
   ]
  },
  {
   "cell_type": "code",
   "execution_count": 89,
   "metadata": {},
   "outputs": [
    {
     "data": {
      "text/plain": [
       "0.9964767021932529"
      ]
     },
     "execution_count": 89,
     "metadata": {},
     "output_type": "execute_result"
    }
   ],
   "source": [
    "len(intersect1d(df1.p_id, df2.p_id))/len(df2.p_id)"
   ]
  },
  {
   "cell_type": "code",
   "execution_count": 55,
   "metadata": {},
   "outputs": [
    {
     "data": {
      "image/png": "[encoded data removed]",
      "text/plain": [
       "<matplotlib.figure.Figure at 0x7eff19aeb588>"
      ]
     },
     "metadata": {},
     "output_type": "display_data"
    }
   ],
   "source": [
    "x = df2.x[df2.ext_id==214]\n",
    "y = df2.y[df2.ext_id==214]\n",
    "p.scatter(x, y, s=1, alpha=0.5, c='red')\n",
    "x = df1.x[df1.ext_id==208]\n",
    "y = df1.y[df1.ext_id==208]\n",
    "p.scatter(x, y, s=1)\n",
    "x = df1.x[df1.ext_id==212]\n",
    "y = df1.y[df1.ext_id==212]\n",
    "p.scatter(x, y, s=1, alpha=0.5)\n",
    "p.show()"
   ]
  },
  {
   "cell_type": "markdown",
   "metadata": {},
   "source": [
    "### Comparion 1 and 3"
   ]
  },
  {
   "cell_type": "code",
   "execution_count": 21,
   "metadata": {},
   "outputs": [
    {
     "data": {
      "text/html": [
       "<div>\n",
       "<style scoped>\n",
       "    .dataframe tbody tr th:only-of-type {\n",
       "        vertical-align: middle;\n",
       "    }\n",
       "\n",
       "    .dataframe tbody tr th {\n",
       "        vertical-align: top;\n",
       "    }\n",
       "\n",
       "    .dataframe thead th {\n",
       "        text-align: right;\n",
       "    }\n",
       "</style>\n",
       "<table border=\"1\" class=\"dataframe\">\n",
       "  <thead>\n",
       "    <tr style=\"text-align: right;\">\n",
       "      <th></th>\n",
       "      <th>sub_id_1</th>\n",
       "      <th>sub_id_2</th>\n",
       "      <th>np_1</th>\n",
       "      <th>np_2</th>\n",
       "      <th>np_common</th>\n",
       "      <th>percent_1</th>\n",
       "      <th>percent_2</th>\n",
       "    </tr>\n",
       "  </thead>\n",
       "  <tbody>\n",
       "  </tbody>\n",
       "</table>\n",
       "</div>"
      ],
      "text/plain": [
       "Empty DataFrame\n",
       "Columns: [sub_id_1, sub_id_2, np_1, np_2, np_common, percent_1, percent_2]\n",
       "Index: []"
      ]
     },
     "execution_count": 21,
     "metadata": {},
     "output_type": "execute_result"
    }
   ],
   "source": [
    "tmp_com_13 = os.path.join(varyfb + 'common-' + name_1 + '-' + name_3)\n",
    "hdr_com = ['sub_id_1', 'sub_id_2', 'np_1', 'np_2', 'np_common', 'percent_1', 'percent_2'] #substructure ID, number of particle\n",
    "df_com_13  = pd.read_csv(tmp_com_13, sep=' ', comment='#', names=hdr_com)\n",
    "\n",
    "df = df_com_13\n",
    "df\n",
    "\n",
    "# Choose significant commonality\n",
    "df[(df.percent_1==100) & (df.percent_2==100)] # NONE\n",
    "# df[(df.percent_1 >= 70) & (df.percent_2 >= 70)] # NONE\n",
    "# df[(df.percent_1 >= 50) & (df.np_2!=85540)] # Some\n",
    "# df[(df.percent_2 >= 50)]\n",
    "\n",
    "# How many stars are in common between df1 and df3?\n",
    "# a, b, c = len(df1), len(df3), len(intersect1d(df1.p_id, df3.p_id))\n",
    "# c/a*100, c/b*100\n",
    "# a,b"
   ]
  },
  {
   "cell_type": "code",
   "execution_count": 75,
   "metadata": {},
   "outputs": [
    {
     "data": {
      "text/plain": [
       "(11332, 96744, 11353, 93836)"
      ]
     },
     "execution_count": 75,
     "metadata": {},
     "output_type": "execute_result"
    }
   ],
   "source": [
    "len(df1),len(df3), len(df2),len(df4)"
   ]
  },
  {
   "cell_type": "markdown",
   "metadata": {},
   "source": [
    "### Comparion 1 and 4"
   ]
  },
  {
   "cell_type": "code",
   "execution_count": 23,
   "metadata": {},
   "outputs": [
    {
     "data": {
      "text/html": [
       "<div>\n",
       "<style scoped>\n",
       "    .dataframe tbody tr th:only-of-type {\n",
       "        vertical-align: middle;\n",
       "    }\n",
       "\n",
       "    .dataframe tbody tr th {\n",
       "        vertical-align: top;\n",
       "    }\n",
       "\n",
       "    .dataframe thead th {\n",
       "        text-align: right;\n",
       "    }\n",
       "</style>\n",
       "<table border=\"1\" class=\"dataframe\">\n",
       "  <thead>\n",
       "    <tr style=\"text-align: right;\">\n",
       "      <th></th>\n",
       "      <th>sub_id_1</th>\n",
       "      <th>sub_id_2</th>\n",
       "      <th>np_1</th>\n",
       "      <th>np_2</th>\n",
       "      <th>np_common</th>\n",
       "      <th>percent_1</th>\n",
       "      <th>percent_2</th>\n",
       "    </tr>\n",
       "  </thead>\n",
       "  <tbody>\n",
       "  </tbody>\n",
       "</table>\n",
       "</div>"
      ],
      "text/plain": [
       "Empty DataFrame\n",
       "Columns: [sub_id_1, sub_id_2, np_1, np_2, np_common, percent_1, percent_2]\n",
       "Index: []"
      ]
     },
     "execution_count": 23,
     "metadata": {},
     "output_type": "execute_result"
    }
   ],
   "source": [
    "tmp_com_14 = os.path.join(varyfb + 'common-' + name_1 + '-' + name_4)\n",
    "hdr_com = ['sub_id_1', 'sub_id_2', 'np_1', 'np_2', 'np_common', 'percent_1', 'percent_2'] #substructure ID, number of particle\n",
    "df_com  = pd.read_csv(tmp_com_14, sep=' ', comment='#', names=hdr_com)\n",
    "\n",
    "# choose significant commonality\n",
    "df_com[(df_com.percent_1 >= 70) & (df_com.percent_2 >= 70)]\n",
    "# df_com[(df_com.percent_1 >= 50) & (df_com.percent_2 >= 50)]\n",
    "# df_com[(df_com.percent_1 >= 30) & (df_com.percent_2 >= 30)]\n",
    "\n",
    "# arr14 = df_com_14.sub_id_1[(df_com_14.percent_1 > 50) & (df_com_14.percent_2 > 50)].values"
   ]
  },
  {
   "cell_type": "markdown",
   "metadata": {},
   "source": [
    "### Comparion 2 and 3"
   ]
  },
  {
   "cell_type": "code",
   "execution_count": null,
   "metadata": {},
   "outputs": [],
   "source": [
    "tmp_com_23 = os.path.join(varyfb + 'common-' + name_2 + '-' + name_3)\n",
    "hdr_com = ['sub_id_1', 'sub_id_2', 'np_1', 'np_2', 'np_common', 'percent_1', 'percent_2'] #substructure ID, number of particle\n",
    "df_com  = pd.read_csv(tmp_com_23, sep=' ', comment='#', names=hdr_com)\n",
    "\n",
    "#choose significant commonality\n",
    "df_com[(df_com.percent_1 >= 70) & (df_com.percent_2 >= 70)]\n",
    "# df_com[(df_com.percent_1 >= 50) & (df_com.percent_2 >= 50)]\n",
    "# df_com[(df_com.percent_1 >= 30) & (df_com.percent_2 >= 30)]\n",
    "\n",
    "# arr23 = df_com.sub_id_1[(df_com.percent_1 > 50) & (df_com.percent_2 > 50)].values"
   ]
  },
  {
   "cell_type": "markdown",
   "metadata": {},
   "source": [
    "### Comparion 2 and 4"
   ]
  },
  {
   "cell_type": "code",
   "execution_count": 89,
   "metadata": {},
   "outputs": [
    {
     "data": {
      "text/plain": [
       "(11353, 93836, 10353)"
      ]
     },
     "execution_count": 89,
     "metadata": {},
     "output_type": "execute_result"
    }
   ],
   "source": [
    "tmp_com_24 = os.path.join(varyfb + 'common-' + name_2 + '-' + name_4)\n",
    "hdr_com = ['sub_id_1', 'sub_id_2', 'np_1', 'np_2', 'np_common', 'percent_1', 'percent_2'] #substructure ID, number of particle\n",
    "df_com_24  = pd.read_csv(tmp_com_24, sep=' ', comment='#', names=hdr_com)\n",
    "df = df_com_24\n",
    "df\n",
    "\n",
    "#choose significant commonality\n",
    "# df[(df.percent_1==100) & (df.percent_2==100)] #NONE\n",
    "# df[(df.percent_1 >= 70) & (df.percent_2 >= 70)] #NONE\n",
    "# df[(df.percent_1 >= 50) & (df.percent_2 >= 50)]\n",
    "\n",
    "# How many stars are in common between df2 and df4?\n",
    "a, b, c = len(df2), len(df4), len(intersect1d(df2.p_id, df4.p_id))\n",
    "c/a*100, c/b*100\n",
    "a,b,c"
   ]
  },
  {
   "cell_type": "markdown",
   "metadata": {},
   "source": [
    "### Comparion 3 and 4"
   ]
  },
  {
   "cell_type": "code",
   "execution_count": 27,
   "metadata": {},
   "outputs": [
    {
     "data": {
      "text/html": [
       "<div>\n",
       "<style scoped>\n",
       "    .dataframe tbody tr th:only-of-type {\n",
       "        vertical-align: middle;\n",
       "    }\n",
       "\n",
       "    .dataframe tbody tr th {\n",
       "        vertical-align: top;\n",
       "    }\n",
       "\n",
       "    .dataframe thead th {\n",
       "        text-align: right;\n",
       "    }\n",
       "</style>\n",
       "<table border=\"1\" class=\"dataframe\">\n",
       "  <thead>\n",
       "    <tr style=\"text-align: right;\">\n",
       "      <th></th>\n",
       "      <th>sub_id_1</th>\n",
       "      <th>sub_id_2</th>\n",
       "      <th>np_1</th>\n",
       "      <th>np_2</th>\n",
       "      <th>np_common</th>\n",
       "      <th>percent_1</th>\n",
       "      <th>percent_2</th>\n",
       "    </tr>\n",
       "  </thead>\n",
       "  <tbody>\n",
       "    <tr>\n",
       "      <th>0</th>\n",
       "      <td>0</td>\n",
       "      <td>1</td>\n",
       "      <td>18</td>\n",
       "      <td>18</td>\n",
       "      <td>18</td>\n",
       "      <td>100</td>\n",
       "      <td>100</td>\n",
       "    </tr>\n",
       "  </tbody>\n",
       "</table>\n",
       "</div>"
      ],
      "text/plain": [
       "   sub_id_1  sub_id_2  np_1  np_2  np_common  percent_1  percent_2\n",
       "0         0         1    18    18         18        100        100"
      ]
     },
     "execution_count": 27,
     "metadata": {},
     "output_type": "execute_result"
    }
   ],
   "source": [
    "tmp_com_34 = os.path.join(varyfb + 'common-' + name_3 + '-' + name_4)\n",
    "hdr_com = ['sub_id_1', 'sub_id_2', 'np_1', 'np_2', 'np_common', 'percent_1', 'percent_2'] #substructure ID, number of particle\n",
    "df_com_34  = pd.read_csv(tmp_com_34, sep=' ', comment='#', names=hdr_com)\n",
    "df_com_34\n",
    "\n",
    "#choose significant commonality\n",
    "df_com_34[(df_com_34.percent_1 == 100) & (df_com_34.percent_2 == 100)]\n",
    "# df_com_34[(df_com_34.percent_1 >= 70) & (df_com_34.percent_2 >= 70)]\n",
    "# df_com_34[(df_com_34.percent_1 >= 50) & (df_com_34.percent_2 >= 50)]\n",
    "# df_com[(df_com.percent_1 >= 30) & (df_com.percent_2 >= 30)]\n",
    "# df_com_34[df_com_34.np_1!=85540]\n",
    "\n",
    "# arr34 = df_com.sub_id_1[(df_com.percent_1 > 50) & (df_com.percent_2 > 50)].values"
   ]
  },
  {
   "cell_type": "code",
   "execution_count": 28,
   "metadata": {},
   "outputs": [
    {
     "data": {
      "text/plain": [
       "'/net/virgo01/data/users/virgini/rockstar/RC3/output/common-b20-f40-b20-f80'"
      ]
     },
     "execution_count": 28,
     "metadata": {},
     "output_type": "execute_result"
    }
   ],
   "source": [
    "tmp_com_34"
   ]
  },
  {
   "cell_type": "code",
   "execution_count": 25,
   "metadata": {},
   "outputs": [
    {
     "data": {
      "text/plain": [
       "(96.29331017944264, 99.2774628074513)"
      ]
     },
     "execution_count": 25,
     "metadata": {},
     "output_type": "execute_result"
    }
   ],
   "source": [
    "# How many stars are in common between df3 and df4?\n",
    "a, b, c = len(df3), len(df4), len(intersect1d(df3.p_id, df4.p_id))\n",
    "c/a*100, c/b*100 "
   ]
  },
  {
   "cell_type": "markdown",
   "metadata": {},
   "source": [
    "### Final result: List of substructures that have high confidence (always appear in every run)"
   ]
  },
  {
   "cell_type": "code",
   "execution_count": 100,
   "metadata": {
    "collapsed": true
   },
   "outputs": [],
   "source": [
    "arr12 = df_com_12.sub_id_1[(df_com_12.percent_1 > 50) & (df_com_12.percent_2 > 50)].values\n",
    "arr13 = df_com_13.sub_id_1[(df_com_13.percent_1 > 50) & (df_com_13.percent_2 > 50)].values\n",
    "arr14 = df_com_14.sub_id_1[(df_com_14.percent_1 > 50) & (df_com_14.percent_2 > 50)].values"
   ]
  },
  {
   "cell_type": "code",
   "execution_count": 101,
   "metadata": {
    "collapsed": true
   },
   "outputs": [],
   "source": [
    "idh = intersect1d(intersect1d(arr12, arr13), intersect1d(arr13, arr14)) #index for high confidence"
   ]
  },
  {
   "cell_type": "code",
   "execution_count": 102,
   "metadata": {},
   "outputs": [
    {
     "data": {
      "text/plain": [
       "array([145])"
      ]
     },
     "execution_count": 102,
     "metadata": {},
     "output_type": "execute_result"
    }
   ],
   "source": [
    "idh"
   ]
  },
  {
   "cell_type": "markdown",
   "metadata": {},
   "source": [
    "## Get the list of particle ID in each high-confidence substructure\n",
    "##### By using the same tree as before, we will try to get the list of particle ID in each high-confidence subs"
   ]
  },
  {
   "cell_type": "code",
   "execution_count": 105,
   "metadata": {
    "collapsed": true
   },
   "outputs": [],
   "source": [
    "# =====================\n",
    "# create a single file\n",
    "# =====================\n",
    "\n",
    "output = '/net/virgo01/data/users/virgini/rockstar/RC3/output/high-confidence'\n",
    "with open(output, 'w') as f:\n",
    "    writer = csv.writer(f, delimiter=' ', lineterminator='\\n')\n",
    "    writer.writerow(['#sub_id_1', 'p_id'])\n",
    "    f.close()\n",
    "\n",
    "# =================================================================================\n",
    "# The 3 levels tree to find any substructures that always exist in 4 different set\n",
    "# =================================================================================\n",
    "\n",
    "for i in idh:\n",
    "\n",
    "    # select substructure-ID which more than 50% of stars intersect with each other\n",
    "    ids2 = int(df_com_12.sub_id_2[(df_com_12.sub_id_1==i) & (df_com_12.percent_1 > 50) & (df_com_12.percent_2 > 50)])\n",
    "    ids3 = int(df_com_13.sub_id_2[(df_com_13.sub_id_1==i) & (df_com_13.percent_1 > 50) & (df_com_13.percent_2 > 50)])\n",
    "    ids4 = int(df_com_14.sub_id_2[(df_com_14.sub_id_1==i) & (df_com_14.percent_1 > 50) & (df_com_14.percent_2 > 50)])\n",
    "\n",
    "    # array that contains particle-ID in each selected substructure-ID\n",
    "    arr1 = array(df1.p_id[df1.ext_id==i])\n",
    "    arr2 = array(df2.p_id[df2.ext_id==ids2])\n",
    "    arr3 = array(df3.p_id[df3.ext_id==ids3])\n",
    "    arr4 = array(df4.p_id[df4.ext_id==ids4])\n",
    "\n",
    "    # first level tree of intersection\n",
    "    idp12 = intersect1d(arr1, arr2)\n",
    "    idp13 = intersect1d(arr1, arr3)\n",
    "    idp14 = intersect1d(arr1, arr4)\n",
    "\n",
    "    # second level tree of intersection\n",
    "    idp123 = intersect1d(idp12, idp13)\n",
    "    idp134 = intersect1d(idp12, idp14)\n",
    "\n",
    "    # third level tree of intersection\n",
    "    idp1234 = intersect1d(idp123, idp134)\n",
    "    \n",
    "    with open(output, 'a') as f:\n",
    "        writer = csv.writer(f, delimiter=' ', lineterminator='\\n')\n",
    "        for j in arange(len(idp1234)):\n",
    "            writer.writerow([i, idp1234[j]])\n",
    "        f.close()  "
   ]
  },
  {
   "cell_type": "markdown",
   "metadata": {},
   "source": [
    "# Plot stars around the area of 3 open clusters [DONE]"
   ]
  },
  {
   "cell_type": "markdown",
   "metadata": {},
   "source": [
    "## 1. NGC 3235"
   ]
  },
  {
   "cell_type": "code",
   "execution_count": null,
   "metadata": {
    "collapsed": true
   },
   "outputs": [],
   "source": [
    "ra  = math.radians(166.5)\n",
    "dec = math.radians(-58.73)\n",
    "d   = 492\n",
    "\n",
    "x1 = (d*math.cos(dec)*math.cos(ra))*1e-3\n",
    "y1 = (d*math.cos(dec)*math.sin(ra))*1e-3\n",
    "z1 = (d*math.sin(dec))*1e-3\n",
    "\n",
    "x1,y1,z1"
   ]
  },
  {
   "cell_type": "code",
   "execution_count": null,
   "metadata": {
    "collapsed": true
   },
   "outputs": [],
   "source": [
    "# Plot stars around the area of NGC 3235\n",
    "\n",
    "tmp_input = '/net/virgo01/data/users/virgini/rockstar/RC3/input/input_6d_5'\n",
    "df_input  = pd.read_csv(tmp_input, sep=' ', index_col=False)\n",
    "\n",
    "r_pc  = 50 \n",
    "r_kpc = r_pc*1e-3\n",
    "\n",
    "NGC3235 = (df_input.x >= (x1-r_kpc)) & (df_input.x <= (x1+r_kpc)) & \\\n",
    "          (df_input.y >= (y1-r_kpc)) & (df_input.y <= (y1+r_kpc)) & \\\n",
    "          (df_input.z >= (z1-r_kpc)) & (df_input.z <= (z1+r_kpc))\n",
    "\n",
    "df = df_input[NGC3235].reset_index()\n",
    "\n",
    "tmp_3235 = '/net/virgo01/data/users/virgini/rockstar/RC3/output/NGC3235.pdf'\n",
    "\n",
    "with PdfPages(tmp_3235) as pdf:\n",
    "\n",
    "    fig = p.figure(figsize=(17,8))\n",
    "    \n",
    "    gs = p.GridSpec(1,2)\n",
    "    p.subplot(gs[0])\n",
    "    p.scatter(x1,y1, c='red', marker='x', s=100)\n",
    "    p.scatter(df.x, df.y)\n",
    "    \n",
    "    for i in range(len(df)):\n",
    "        p.arrow(df.x[i], df.y[i], df.vx[i]/1e4, df.vy[i]/1e4, width=0, head_width=0.0005, fc='black')\n",
    "    \n",
    "    p.xlabel('x [kpc]')\n",
    "    p.ylabel('y [kpc]')\n",
    "    p.title('NGC3235 (new data file)', loc='left')\n",
    "    p.title('Size = %s pc' %r_pc, loc='right')\n",
    "    \n",
    "    p.subplot(gs[1])\n",
    "    p.scatter(z1,y1, c='red', marker='x', s=100)\n",
    "    p.scatter(df.z, df.y)\n",
    "    \n",
    "    for i in range(len(df)):\n",
    "        p.arrow(df.z[i], df.y[i], df.vz[i]/1e4, df.vy[i]/1e4, width=0, head_width=0.0005, fc='black')\n",
    "    \n",
    "    p.xlabel('z [kpc]')\n",
    "    p.ylabel('y [kpc]')\n",
    "    \n",
    "    pdf.savefig(fig)\n",
    "    p.show()"
   ]
  },
  {
   "cell_type": "markdown",
   "metadata": {},
   "source": [
    "## 2. NGC 2422"
   ]
  },
  {
   "cell_type": "code",
   "execution_count": null,
   "metadata": {
    "collapsed": true
   },
   "outputs": [],
   "source": [
    "ra  = radians(114.15)\n",
    "dec = radians(-14.48)\n",
    "d   = 491\n",
    "\n",
    "x2 = d*math.cos(dec)*math.cos(ra)*1e-3\n",
    "y2 = d*math.cos(dec)*math.sin(ra)*1e-3\n",
    "z2 = d*math.sin(dec)*1e-3\n",
    "\n",
    "x2,y2,z2"
   ]
  },
  {
   "cell_type": "code",
   "execution_count": null,
   "metadata": {
    "collapsed": true
   },
   "outputs": [],
   "source": [
    "# Plot stars around the area of NGC 2422\n",
    "\n",
    "tmp_input = '/net/virgo01/data/users/virgini/rockstar/RC3/input/input_6d_5'\n",
    "df_input  = pd.read_csv(tmp_input, sep=' ', index_col=False)\n",
    "\n",
    "r_pc  = 300 \n",
    "r_kpc = r_pc*1e-3\n",
    "\n",
    "NGC2422 = (df_input.x >= (x2-r_kpc)) & (df_input.x <= (x2+r_kpc)) & \\\n",
    "          (df_input.y >= (y2-r_kpc)) & (df_input.y <= (y2+r_kpc)) & \\\n",
    "          (df_input.z >= (z2-r_kpc)) & (df_input.z <= (z2+r_kpc))\n",
    "\n",
    "df = df_input[NGC2422].reset_index()\n",
    "\n",
    "tmp_2422 = '/net/virgo01/data/users/virgini/rockstar/RC3/output/NGC2422.pdf'\n",
    "\n",
    "with PdfPages(tmp_2422) as pdf:\n",
    "\n",
    "    p.figure(figsize=(17,8))\n",
    "    gs = p.GridSpec(1,2)\n",
    "    \n",
    "    p.subplot(gs[0])\n",
    "    p.scatter(x2,y2, c='red', marker='x', s=100)\n",
    "    p.scatter(df.x, df.y)\n",
    "    \n",
    "    for i in range(len(df)):\n",
    "        p.arrow(df.x[i], df.y[i], df.vx[i]/1e4, df.vy[i]/1e4, width=0, head_width=0.0005, fc='black')\n",
    "    \n",
    "    p.xlabel('x [kpc]')\n",
    "    p.ylabel('y [kpc]')\n",
    "    p.title('NGC2422 (new data file)', loc='left')\n",
    "    p.title('Size = %s pc' %r_pc, loc='right')\n",
    "    \n",
    "    p.subplot(gs[1])\n",
    "    p.scatter(z2,y2, c='red', marker='x', s=100)\n",
    "    p.scatter(df.z, df.y)\n",
    "    \n",
    "    for i in range(len(df)):\n",
    "        p.arrow(df.z[i], df.y[i], df.vz[i]/1e4, df.vy[i]/1e4, width=0, head_width=0.0005, fc='black')\n",
    "    \n",
    "    p.xlabel('z [kpc]')\n",
    "    p.ylabel('y [kpc]')\n",
    "    \n",
    "    pdf.savefig()\n",
    "    p.close()"
   ]
  },
  {
   "cell_type": "markdown",
   "metadata": {},
   "source": [
    "## 3. NGC 6405"
   ]
  },
  {
   "cell_type": "code",
   "execution_count": null,
   "metadata": {
    "collapsed": true
   },
   "outputs": [],
   "source": [
    "ra  = radians(265.08)\n",
    "dec = radians(-32.20)\n",
    "d   = 487\n",
    "\n",
    "x3 = d*math.cos(dec)*math.cos(ra)*1e-3\n",
    "y3 = d*math.cos(dec)*math.sin(ra)*1e-3\n",
    "z3 = d*math.sin(dec)*1e-3\n",
    "x3,y3,z3"
   ]
  },
  {
   "cell_type": "code",
   "execution_count": null,
   "metadata": {
    "collapsed": true
   },
   "outputs": [],
   "source": [
    "# Plot stars around the area of NGC 6405\n",
    "\n",
    "tmp_input = '/net/virgo01/data/users/virgini/rockstar/RC3/input/input_6d_5'\n",
    "df_input  = pd.read_csv(tmp_input, sep=' ', index_col=False)\n",
    "\n",
    "r_pc  = 50 \n",
    "r_kpc = r_pc*1e-3\n",
    "\n",
    "NGC6405 = (df_input.x >= (x3-r_kpc)) & (df_input.x <= (x3+r_kpc)) & \\\n",
    "          (df_input.y >= (y3-r_kpc)) & (df_input.y <= (y3+r_kpc)) & \\\n",
    "          (df_input.z >= (z3-r_kpc)) & (df_input.z <= (z3+r_kpc))\n",
    "\n",
    "df = df_input[NGC6405].reset_index()\n",
    "\n",
    "tmp_6405 = '/net/virgo01/data/users/virgini/rockstar/RC3/output/NGC6405.pdf'\n",
    "\n",
    "with PdfPages(tmp_6405) as pdf:\n",
    "    \n",
    "    fig = p.figure(figsize=(17,8))\n",
    "    gs = p.GridSpec(1,2)\n",
    "    \n",
    "    p.subplot(gs[0])\n",
    "    p.scatter(x3,y3, c='red', marker='x', s=100)\n",
    "    p.scatter(df.x, df.y)\n",
    "    \n",
    "    for i in range(len(df)):\n",
    "        p.arrow(df.x[i], df.y[i], df.vx[i]/1e4, df.vy[i]/1e4, width=0, head_width=0.0005, fc='black')\n",
    "        \n",
    "    p.xlabel('x [kpc]')\n",
    "    p.ylabel('y [kpc]')\n",
    "    p.title('NGC6405 (new data file)', loc='left')\n",
    "    p.title('Size = %s pc' %r_pc, loc='right')\n",
    "    \n",
    "    p.subplot(gs[1])\n",
    "    p.scatter(z3,y3, c='red', marker='x', s=100)\n",
    "    p.scatter(df.z, df.y)\n",
    "    \n",
    "    for i in range(len(df)):\n",
    "        p.arrow(df.z[i], df.y[i], df.vz[i]/1e4, df.vy[i]/1e4, width=0, head_width=0.0005, fc='black')\n",
    "        \n",
    "    p.xlabel('z [kpc]')\n",
    "    p.ylabel('y [kpc]')\n",
    "    \n",
    "    pdf.savefig(fig)\n",
    "    p.close()"
   ]
  },
  {
   "cell_type": "markdown",
   "metadata": {},
   "source": [
    "# Plot of all substructures in space (with new data file)"
   ]
  },
  {
   "cell_type": "code",
   "execution_count": null,
   "metadata": {
    "collapsed": true
   },
   "outputs": [],
   "source": [
    "sub_  = ['b07-f13-n5-t70-halo', 'b07-f83-n5-t70-halo', 'b24-f44-n5-t70-halo', 'b24-f82-n5-t70-halo']\n",
    "name_ = [name_1, name_2, name_3, name_4]\n",
    "\n",
    "varyfb  = '/net/virgo01/data/users/virgini/rockstar/RC3/output/'\n",
    "tmp_sub = ['tmp_sub1', 'tmp_sub2', 'tmp_sub3', 'tmp_sub4']\n",
    "hdr_sub = ['id', 'num_p', 'mvir', 'mbound_vir', 'rvir', 'vmax', 'rvmax', 'vrms',\\\n",
    "           'x', 'y', 'z', 'vx', 'vy', 'vz', 'Jx', 'Jy', 'Jz', 'E', 'Spin', \\\n",
    "           'PosUncertainty', 'VelUncertainty', 'bulk_vx', 'bulk_vy', 'bulk_vz',\\\n",
    "           'BulkVelUnc', 'n_core', 'm200b', 'm200c', 'm500c', 'm2500c',\\\n",
    "           'Xoff', 'Voff', 'spin_bullock', 'b_to_a', 'c_to_a', \\\n",
    "           'A[x]', 'A[y]', 'A[z]', 'b_to_a(500c)', 'c_to_a(500c)', \\\n",
    "           'A[x](500c)', 'A[y](500c)', 'A[z](500c)', 'Rs', 'Rs_Klypin', 'T/|U|',\\\n",
    "           'M_pe_Behroozi', 'M_pe_Diemer', 'idx', 'i_so', 'i_ph', 'num_cp', 'mmetric']\n",
    "df_sub  = ['df_sub1', 'df_sub2', 'df_sub3', 'df_sub4']\n",
    "\n",
    "for i in range(4):\n",
    "    tmp_sub[i] = os.path.join(varyfb + sub_[i])\n",
    "    df_sub[i]  = pd.read_csv(tmp_sub[i], comment='#', sep=' ', names=hdr_sub, \\\n",
    "                 usecols=['x', 'y', 'z', 'vx', 'vy', 'vz'])"
   ]
  },
  {
   "cell_type": "code",
   "execution_count": null,
   "metadata": {
    "collapsed": true
   },
   "outputs": [],
   "source": [
    "tmp_all = os.path.join(varyfb+'all_sub'+'.pdf')\n",
    "\n",
    "with PdfPages(tmp_all) as pdf:\n",
    "    \n",
    "    for i in range(4):\n",
    "        \n",
    "        fig = p.figure(figsize=(17,9))\n",
    "        gs = p.GridSpec(1,2)\n",
    "        FOF_b = name_[i][0].replace('b', '3D FOF b : ')+str(int(str(int(name_[i][1]))+str(int(name_[i][2])))/100)\n",
    "        FOF_f = name_[i][4].replace('f', '3D FOF f  : ')+str(int(str(int(name_[i][5]))+str(int(name_[i][6])))/100)\n",
    "        \n",
    "        p.subplot(gs[0])\n",
    "        p.scatter(df_sub[i].x, df_sub[i].y, s=20)\n",
    "        p.scatter(0,0, c='red', s=30)\n",
    "        \n",
    "        for k in range(len(df_sub[i])):\n",
    "            p.arrow(df_sub[i].x[k], df_sub[i].y[k], df_sub[i].vx[k]*5e-4, df_sub[i].vy[k]*5e-4,\\\n",
    "                    width=0, head_width=0.005, fc='black')\n",
    "        \n",
    "        FOF_b = name_[i][0].replace('b', '3D FOF b : ')+str(int(str(int(name_[i][1]))+str(int(name_[i][2])))/100)\n",
    "        FOF_f = name_[i][4].replace('f', '3D FOF f  : ')+str(int(str(int(name_[i][5]))+str(int(name_[i][6])))/100)        \n",
    "        \n",
    "        p.title(FOF_b +'\\n'+ FOF_f +'\\n'+ 'Number of substructures : %s' %len(df_sub[i]) +'\\n',\\\n",
    "                fontsize=10, loc='left')\n",
    "        p.xlabel('x [kpc]')\n",
    "        p.ylabel('y [kpc]')\n",
    "        p.xlim(-0.3, 0.6)\n",
    "        p.ylim(-0.7, 0.2)\n",
    "        \n",
    "        p.subplot(gs[1])\n",
    "        p.scatter(df_sub[i].z, df_sub[i].y, s=20)\n",
    "        p.scatter(0,0, c='red', s=30)\n",
    "        \n",
    "        \n",
    "        for k in range(len(df_sub[i])):\n",
    "            p.arrow(df_sub[i].z[k], df_sub[i].y[k], df_sub[i].vz[k]*5e-4, df_sub[i].vy[k]*5e-4,\\\n",
    "                    width=0, head_width=0.005, fc='black')\n",
    "\n",
    "        p.title('New data file \\n', loc='right', fontsize=15)\n",
    "        p.xlabel('z [kpc]')\n",
    "        p.ylabel('y [kpc]')\n",
    "        p.xlim(-0.5, 0.4)\n",
    "        p.ylim(-0.7, 0.2)\n",
    "        \n",
    "        gs.tight_layout(fig, rect=[0.05,0.05,0.95,0.95])\n",
    "        \n",
    "        pdf.savefig(fig)\n",
    "        p.close()\n",
    "        \n",
    "    p.show()"
   ]
  },
  {
   "cell_type": "code",
   "execution_count": null,
   "metadata": {
    "collapsed": true
   },
   "outputs": [],
   "source": [
    "dr[0]"
   ]
  },
  {
   "cell_type": "markdown",
   "metadata": {},
   "source": [
    "# Find the tree"
   ]
  },
  {
   "cell_type": "code",
   "execution_count": 95,
   "metadata": {
    "collapsed": true
   },
   "outputs": [],
   "source": [
    "df1 = df1\n",
    "df2 = df2\n",
    "name_1 = name_1\n",
    "name_2 = name_2\n",
    "output_1 = output_1\n",
    "output_2 = output_2\n",
    "tmp_tree = tmp_tree_12"
   ]
  },
  {
   "cell_type": "markdown",
   "metadata": {},
   "source": [
    "## 1. Create data file"
   ]
  },
  {
   "cell_type": "code",
   "execution_count": 102,
   "metadata": {},
   "outputs": [
    {
     "name": "stderr",
     "output_type": "stream",
     "text": [
      "Loading...: 100%|██████████| 244/244 [01:00<00:00,  3.99it/s]\n"
     ]
    }
   ],
   "source": [
    "tmp_12 = os.path.join(varyfb + 'common-' + name_1 + '-' + name_2)\n",
    "with open(tmp_12, 'w') as common:\n",
    "    wr = csv.writer(common, delimiter=' ', lineterminator='\\n')\n",
    "    wr.writerow(['#output_1:', output_1])\n",
    "    wr.writerow(['#output_2:', output_2])\n",
    "    wr.writerow(['#sub_id_1', 'sub_id_2', 'np_1', 'np_2', 'np_common', 'percent_1', 'percent_2'])\n",
    "    for i in tqdm(range(max(df1.ext_id)+1), desc='Loading...'):\n",
    "        for j in range(max(df2.ext_id)+1):\n",
    "            arr1 = array(df1.p_id[df1.ext_id == i])\n",
    "            arr2 = array(df2.p_id[df2.ext_id == j])\n",
    "            if len(intersect1d(arr1, arr2)) != 0:\n",
    "                np_common = len(intersect1d(arr1, arr2))\n",
    "                percent_1 = int((np_common/len(arr1))*100)\n",
    "                percent_2 = int((np_common/len(arr2))*100)\n",
    "                wr.writerow([i, j, len(arr1), len(arr2), np_common, percent_1, percent_2])\n",
    "    common.close()\n"
   ]
  },
  {
   "cell_type": "code",
   "execution_count": 103,
   "metadata": {},
   "outputs": [
    {
     "data": {
      "text/plain": [
       "array([ 771,  776,  782,  784,  786,  790,  931,  932,  937,  987,  989,\n",
       "       1008])"
      ]
     },
     "execution_count": 103,
     "metadata": {},
     "output_type": "execute_result"
    }
   ],
   "source": [
    "arr1 = array(df1.p_id[df1.ext_id == 4])\n",
    "arr2 = array(df2.p_id[df2.ext_id == 4])\n",
    "intersect1d(arr1, arr2)"
   ]
  },
  {
   "cell_type": "code",
   "execution_count": 98,
   "metadata": {},
   "outputs": [
    {
     "data": {
      "text/plain": [
       "array([ 989,  771,  987,  937,  782, 1008,  776,  786,  790,  784,  931,\n",
       "        932])"
      ]
     },
     "execution_count": 98,
     "metadata": {},
     "output_type": "execute_result"
    }
   ],
   "source": [
    "arr1"
   ]
  },
  {
   "cell_type": "code",
   "execution_count": 99,
   "metadata": {},
   "outputs": [
    {
     "data": {
      "text/plain": [
       "array([ 989,  771,  987,  937,  782, 1008,  776,  786,  790,  784,  931,\n",
       "        932])"
      ]
     },
     "execution_count": 99,
     "metadata": {},
     "output_type": "execute_result"
    }
   ],
   "source": [
    "arr2"
   ]
  },
  {
   "cell_type": "code",
   "execution_count": 100,
   "metadata": {},
   "outputs": [
    {
     "data": {
      "text/plain": [
       "0"
      ]
     },
     "execution_count": 100,
     "metadata": {},
     "output_type": "execute_result"
    }
   ],
   "source": [
    "len(df1.p_id)-len(unique(df1.p_id))"
   ]
  },
  {
   "cell_type": "markdown",
   "metadata": {},
   "source": [
    "## 2. Information"
   ]
  },
  {
   "cell_type": "code",
   "execution_count": 104,
   "metadata": {
    "scrolled": true
   },
   "outputs": [
    {
     "name": "stdout",
     "output_type": "stream",
     "text": [
      "Output 1: b05-f40-n10-t70\n",
      "Output 2: b05-f80-n10-t70\n",
      "Number of substructures: 244 249\n",
      "Maximum number of stars: 1881 2914\n"
     ]
    }
   ],
   "source": [
    "hdr_12 = ['sub_id_1', 'sub_id_2', 'np_1', 'np_2', 'np_common', 'percent_1', 'percent_2']\n",
    "df12  = pd.read_csv(tmp_12, sep=' ', comment='#', names=hdr_12)\n",
    "\n",
    "print('Output 1:', output_1)\n",
    "print('Output 2:', output_2)\n",
    "print('Number of substructures:', max(df12.sub_id_1)+1, max(df12.sub_id_2)+1) #the least number is the parent\n",
    "print('Maximum number of stars:', max(df12.np_1), max(df12.np_2))"
   ]
  },
  {
   "cell_type": "code",
   "execution_count": 105,
   "metadata": {},
   "outputs": [
    {
     "name": "stdout",
     "output_type": "stream",
     "text": [
      "Number of substructures that are exactly the same: 225\n",
      "Number of substructures that have intersection more than half: 11\n",
      "Number of substructures that can be ignored: 14\n",
      "Total: 250\n"
     ]
    }
   ],
   "source": [
    "n_same = len(unique(df12.sub_id_2[(df12.percent_1 == 100) & (df12.percent_2 == 100)]))\n",
    "n_half = len(unique(df12.sub_id_2[(df12.percent_1 != 100) & (df12.percent_2 != 100) & (df12.percent_2 > 50)]))\n",
    "n_less = len(unique(df12.sub_id_2[(df12.percent_2 <= 50)]))\n",
    "print('Number of substructures that are exactly the same: %s' %n_same)\n",
    "print('Number of substructures that have intersection more than half: %s' %n_half) \n",
    "print('Number of substructures that can be ignored: %s' %n_less)\n",
    "print('Total:', n_same + n_half + n_less)\n",
    "\n",
    "#this number is not the same as the total substructure, because there might be some substructures that has more than half\n",
    "#to sub_A and less than half to sub_B, so they belong to both 'half' and 'less', thus they are counted twice."
   ]
  },
  {
   "cell_type": "code",
   "execution_count": 106,
   "metadata": {},
   "outputs": [
    {
     "name": "stdout",
     "output_type": "stream",
     "text": [
      "Number of parent substructures: 6\n",
      "Number of child  substructures: 11\n"
     ]
    }
   ],
   "source": [
    "n_parent = len(unique(df12.sub_id_1[(df12.percent_1 != 100) & (df12.percent_2 != 100) & (df12.percent_2 > 50)]))\n",
    "n_child  = len(unique(df12.sub_id_2[(df12.percent_1 != 100) & (df12.percent_2 != 100) & (df12.percent_2 > 50)]))\n",
    "print('Number of parent substructures: %s' %n_parent)\n",
    "print('Number of child  substructures: %s' %n_child)"
   ]
  },
  {
   "cell_type": "code",
   "execution_count": 107,
   "metadata": {},
   "outputs": [
    {
     "data": {
      "text/html": [
       "<div>\n",
       "<style>\n",
       "    .dataframe thead tr:only-child th {\n",
       "        text-align: right;\n",
       "    }\n",
       "\n",
       "    .dataframe thead th {\n",
       "        text-align: left;\n",
       "    }\n",
       "\n",
       "    .dataframe tbody tr th {\n",
       "        vertical-align: top;\n",
       "    }\n",
       "</style>\n",
       "<table border=\"1\" class=\"dataframe\">\n",
       "  <thead>\n",
       "    <tr style=\"text-align: right;\">\n",
       "      <th></th>\n",
       "      <th>sub_id_1</th>\n",
       "      <th>sub_id_2</th>\n",
       "      <th>np_1</th>\n",
       "      <th>np_2</th>\n",
       "      <th>np_common</th>\n",
       "      <th>percent_1</th>\n",
       "      <th>percent_2</th>\n",
       "    </tr>\n",
       "  </thead>\n",
       "  <tbody>\n",
       "    <tr>\n",
       "      <th>202</th>\n",
       "      <td>201</td>\n",
       "      <td>205</td>\n",
       "      <td>25</td>\n",
       "      <td>17</td>\n",
       "      <td>16</td>\n",
       "      <td>64</td>\n",
       "      <td>94</td>\n",
       "    </tr>\n",
       "    <tr>\n",
       "      <th>207</th>\n",
       "      <td>203</td>\n",
       "      <td>209</td>\n",
       "      <td>68</td>\n",
       "      <td>58</td>\n",
       "      <td>49</td>\n",
       "      <td>72</td>\n",
       "      <td>84</td>\n",
       "    </tr>\n",
       "    <tr>\n",
       "      <th>214</th>\n",
       "      <td>206</td>\n",
       "      <td>207</td>\n",
       "      <td>20</td>\n",
       "      <td>13</td>\n",
       "      <td>8</td>\n",
       "      <td>40</td>\n",
       "      <td>61</td>\n",
       "    </tr>\n",
       "    <tr>\n",
       "      <th>242</th>\n",
       "      <td>212</td>\n",
       "      <td>210</td>\n",
       "      <td>1881</td>\n",
       "      <td>200</td>\n",
       "      <td>196</td>\n",
       "      <td>10</td>\n",
       "      <td>98</td>\n",
       "    </tr>\n",
       "    <tr>\n",
       "      <th>243</th>\n",
       "      <td>212</td>\n",
       "      <td>211</td>\n",
       "      <td>1881</td>\n",
       "      <td>93</td>\n",
       "      <td>92</td>\n",
       "      <td>4</td>\n",
       "      <td>98</td>\n",
       "    </tr>\n",
       "    <tr>\n",
       "      <th>245</th>\n",
       "      <td>212</td>\n",
       "      <td>213</td>\n",
       "      <td>1881</td>\n",
       "      <td>104</td>\n",
       "      <td>61</td>\n",
       "      <td>3</td>\n",
       "      <td>58</td>\n",
       "    </tr>\n",
       "    <tr>\n",
       "      <th>247</th>\n",
       "      <td>212</td>\n",
       "      <td>215</td>\n",
       "      <td>1881</td>\n",
       "      <td>66</td>\n",
       "      <td>43</td>\n",
       "      <td>2</td>\n",
       "      <td>65</td>\n",
       "    </tr>\n",
       "    <tr>\n",
       "      <th>250</th>\n",
       "      <td>212</td>\n",
       "      <td>218</td>\n",
       "      <td>1881</td>\n",
       "      <td>13</td>\n",
       "      <td>8</td>\n",
       "      <td>0</td>\n",
       "      <td>61</td>\n",
       "    </tr>\n",
       "    <tr>\n",
       "      <th>255</th>\n",
       "      <td>214</td>\n",
       "      <td>208</td>\n",
       "      <td>277</td>\n",
       "      <td>16</td>\n",
       "      <td>10</td>\n",
       "      <td>3</td>\n",
       "      <td>62</td>\n",
       "    </tr>\n",
       "    <tr>\n",
       "      <th>259</th>\n",
       "      <td>214</td>\n",
       "      <td>217</td>\n",
       "      <td>277</td>\n",
       "      <td>45</td>\n",
       "      <td>26</td>\n",
       "      <td>9</td>\n",
       "      <td>57</td>\n",
       "    </tr>\n",
       "    <tr>\n",
       "      <th>261</th>\n",
       "      <td>215</td>\n",
       "      <td>212</td>\n",
       "      <td>139</td>\n",
       "      <td>24</td>\n",
       "      <td>16</td>\n",
       "      <td>11</td>\n",
       "      <td>66</td>\n",
       "    </tr>\n",
       "  </tbody>\n",
       "</table>\n",
       "</div>"
      ],
      "text/plain": [
       "     sub_id_1  sub_id_2  np_1  np_2  np_common  percent_1  percent_2\n",
       "202       201       205    25    17         16         64         94\n",
       "207       203       209    68    58         49         72         84\n",
       "214       206       207    20    13          8         40         61\n",
       "242       212       210  1881   200        196         10         98\n",
       "243       212       211  1881    93         92          4         98\n",
       "245       212       213  1881   104         61          3         58\n",
       "247       212       215  1881    66         43          2         65\n",
       "250       212       218  1881    13          8          0         61\n",
       "255       214       208   277    16         10          3         62\n",
       "259       214       217   277    45         26          9         57\n",
       "261       215       212   139    24         16         11         66"
      ]
     },
     "execution_count": 107,
     "metadata": {},
     "output_type": "execute_result"
    }
   ],
   "source": [
    "(df12[(df12.percent_1 != 100) & (df12.percent_2 != 100) & (df12.percent_2 > 50)])"
   ]
  },
  {
   "cell_type": "code",
   "execution_count": 108,
   "metadata": {},
   "outputs": [
    {
     "data": {
      "text/plain": [
       "(225,)"
      ]
     },
     "execution_count": 108,
     "metadata": {},
     "output_type": "execute_result"
    }
   ],
   "source": [
    "array_same = unique(df12.sub_id_2[(df12.percent_1 == 100) & (df12.percent_2 == 100)])\n",
    "array_same.shape"
   ]
  },
  {
   "cell_type": "code",
   "execution_count": 109,
   "metadata": {
    "scrolled": true
   },
   "outputs": [
    {
     "data": {
      "text/plain": [
       "(6,)"
      ]
     },
     "execution_count": 109,
     "metadata": {},
     "output_type": "execute_result"
    }
   ],
   "source": [
    "array_half = unique(df12.sub_id_1[(df12.percent_1 != 100) & (df12.percent_2 != 100) & (df12.percent_2 > 50)])\n",
    "array_half.shape"
   ]
  },
  {
   "cell_type": "code",
   "execution_count": 110,
   "metadata": {
    "scrolled": true
   },
   "outputs": [
    {
     "data": {
      "text/plain": [
       "(14,)"
      ]
     },
     "execution_count": 110,
     "metadata": {},
     "output_type": "execute_result"
    }
   ],
   "source": [
    "array_less = unique(df12.sub_id_2[(df12.percent_2 <= 50)])\n",
    "array_less.shape"
   ]
  },
  {
   "cell_type": "code",
   "execution_count": null,
   "metadata": {
    "collapsed": true
   },
   "outputs": [],
   "source": [
    "intersect1d(array_half, array_less)"
   ]
  },
  {
   "cell_type": "raw",
   "metadata": {},
   "source": [
    "df12[df12.sub_id_2 == 114] #this is example of substructure that doesn't belong to any parents according to our criteria"
   ]
  },
  {
   "cell_type": "markdown",
   "metadata": {},
   "source": [
    "## 3. Plot parent and children (complete)"
   ]
  },
  {
   "cell_type": "code",
   "execution_count": 117,
   "metadata": {},
   "outputs": [
    {
     "name": "stderr",
     "output_type": "stream",
     "text": [
      "Loading...: 100%|██████████| 6/6 [00:04<00:00,  1.25it/s]"
     ]
    },
    {
     "name": "stdout",
     "output_type": "stream",
     "text": [
      "finish\n"
     ]
    },
    {
     "name": "stderr",
     "output_type": "stream",
     "text": [
      "\n"
     ]
    }
   ],
   "source": [
    "df12_parent = df12[(df12.percent_1 != 100) & (df12.percent_2 != 100) & (df12.percent_2 > 50)]\n",
    "df12_parent = df12_parent[df12_parent.np_1 > df12_parent.np_2]\n",
    "\n",
    "\n",
    "with PdfPages(tmp_tree) as pdf:\n",
    "\n",
    "    for i in tqdm(unique(df12_parent.sub_id_1), desc='Loading...'):\n",
    "\n",
    "        fig = p.figure(figsize=(15,19))\n",
    "        fig.suptitle('Parent and Children Substructures', fontsize=20, y=0.94)\n",
    "        \n",
    "        gs = p.GridSpec(nrows=3, ncols=2)\n",
    "        \n",
    "        #-----------------------#\n",
    "        #  Parent and Children  #\n",
    "        #-----------------------#\n",
    "        \n",
    "        p.subplot(gs[0])\n",
    "        parent = df1[df1.ext_id==i].reset_index()\n",
    "        np_1 = int(unique(df12_parent.np_1[df12_parent.sub_id_1==i]))\n",
    "        p.scatter(parent.x, parent.y, s=5)\n",
    "\n",
    "        for j in df12_parent.sub_id_2[df12_parent.sub_id_1==i]:\n",
    "            child  = df2[df2.ext_id==j].reset_index()\n",
    "            common = intersect1d(parent.p_id,child.p_id)\n",
    "            member = in1d(child.p_id,parent.p_id)\n",
    "            np_2 = int(df12_parent.np_common[df12_parent.sub_id_2==j])\n",
    "            per_2 = int(df12_parent.percent_2[df12_parent.sub_id_2==j])\n",
    "            p.scatter(child.x[member==True], child.y[member==True], s=5, \n",
    "                      label='Child %s (%s stars, %s%%)' %(j, np_2, per_2))\n",
    "            p.scatter(child.x, child.y, s=5, visible=False)\n",
    "            \n",
    "        p.ylabel('y [kpc]')\n",
    "\n",
    "        p.subplot(gs[1])\n",
    "        p.scatter(parent.z, parent.y, s=5, label='Parent %s (%s stars)' %(i, np_1))\n",
    "\n",
    "        for j in df12_parent.sub_id_2[df12_parent.sub_id_1==i]:\n",
    "            child  = df2[df2.ext_id==j].reset_index()\n",
    "            common = intersect1d(parent.p_id,child.p_id)\n",
    "            member = in1d(child.p_id,parent.p_id)\n",
    "            np_2 = int(df12_parent.np_common[df12_parent.sub_id_2==j])\n",
    "            per_2 = int(df12_parent.percent_2[df12_parent.sub_id_2==j])\n",
    "            p.scatter(child.z[member==True], child.y[member==True], s=5,\n",
    "                      label='Child %s (%s stars, %s%%)' %(j, np_2, per_2))\n",
    "            p.scatter(child.z, child.y, s=5, label=None, visible=False)\n",
    "\n",
    "        p.legend(bbox_to_anchor=(1.01, 1), ncol=1, frameon=False, labelspacing=0.8)\n",
    "        \n",
    "        #-----------------------------#\n",
    "        #  Children (parent's member) #\n",
    "        #-----------------------------#\n",
    "        \n",
    "        p.subplot(gs[2])\n",
    "        np_1 = int(unique(df12_parent.np_1[df12_parent.sub_id_1==i]))\n",
    "        p.scatter(parent.x, parent.y, s=5, visible=False)\n",
    "    \n",
    "        for j in df12_parent.sub_id_2[df12_parent.sub_id_1==i]:\n",
    "            child  = df2[df2.ext_id==j].reset_index()\n",
    "            common = intersect1d(parent.p_id,child.p_id)\n",
    "            member = in1d(child.p_id,parent.p_id)\n",
    "            np_2 = int(df12_parent.np_common[df12_parent.sub_id_2==j])\n",
    "            per_2 = int(df12_parent.percent_2[df12_parent.sub_id_2==j])\n",
    "            p.scatter(child.x[member==True], child.y[member==True], s=5, \n",
    "                      label='Child %s (%s stars, %s%%)' %(j, np_2, per_2))\n",
    "            p.scatter(child.x, child.y, s=5, visible=False)\n",
    "\n",
    "        p.ylabel('y [kpc]')\n",
    "\n",
    "        p.subplot(gs[3])\n",
    "        np_1 = int(unique(df12_parent.np_1[df12_parent.sub_id_1==i]))\n",
    "        p.scatter(parent.z, parent.y, s=5, visible=False)\n",
    "\n",
    "        for j in df12_parent.sub_id_2[df12_parent.sub_id_1==i]:\n",
    "            child  = df2[df2.ext_id==j].reset_index()\n",
    "            common = intersect1d(parent.p_id,child.p_id)\n",
    "            member = in1d(child.p_id,parent.p_id)\n",
    "            np_2 = int(df12_parent.np_common[df12_parent.sub_id_2==j])\n",
    "            per_2 = int(df12_parent.percent_2[df12_parent.sub_id_2==j])\n",
    "            p.scatter(child.z[member==True], child.y[member==True], s=5,\n",
    "                      label='Child %s (%s stars, %s%%)' %(j, np_2, per_2))\n",
    "            p.scatter(child.z, child.y, s=5, visible=False)\n",
    "            \n",
    "        #-------------------------#\n",
    "        #  Children (all member)  #\n",
    "        #-------------------------#\n",
    "        \n",
    "        p.subplot(gs[4])\n",
    "        np_1 = int(unique(df12_parent.np_1[df12_parent.sub_id_1==i]))\n",
    "        p.scatter(parent.x, parent.y, s=5, visible=False)\n",
    "    \n",
    "        for j in df12_parent.sub_id_2[df12_parent.sub_id_1==i]:\n",
    "            child  = df2[df2.ext_id==j].reset_index()\n",
    "            common = intersect1d(parent.p_id,child.p_id)\n",
    "            member = in1d(child.p_id,parent.p_id)\n",
    "            np_2 = int(df12_parent.np_common[df12_parent.sub_id_2==j])\n",
    "            per_2 = int(df12_parent.percent_2[df12_parent.sub_id_2==j])\n",
    "            p.scatter(child.x, child.y, s=5, label='Child %s (%s stars, %s%%)' %(j, np_2, per_2))\n",
    "            \n",
    "        p.xlabel('x [kpc]')\n",
    "        p.ylabel('y [kpc]')\n",
    "\n",
    "        p.subplot(gs[5])\n",
    "        np_1 = int(unique(df12_parent.np_1[df12_parent.sub_id_1==i]))\n",
    "        p.scatter(parent.z, parent.y, s=5, visible=False)\n",
    "\n",
    "        for j in df12_parent.sub_id_2[df12_parent.sub_id_1==i]:\n",
    "            child  = df2[df2.ext_id==j].reset_index()\n",
    "            common = intersect1d(parent.p_id,child.p_id)\n",
    "            member = in1d(child.p_id,parent.p_id)\n",
    "            np_2 = int(df12_parent.np_common[df12_parent.sub_id_2==j])\n",
    "            per_2 = int(df12_parent.percent_2[df12_parent.sub_id_2==j])\n",
    "            p.scatter(child.z, child.y, s=5, label='Child %s (%s stars, %s%%)' %(j, np_2, per_2))\n",
    "\n",
    "        p.xlabel('z [kpc]')\n",
    "        \n",
    "        gs.tight_layout(fig, rect=[0.05,0.05,0.8,0.9])\n",
    "        \n",
    "        pdf.savefig()\n",
    "        p.close()\n",
    "\n",
    "print('finish')"
   ]
  },
  {
   "cell_type": "markdown",
   "metadata": {},
   "source": [
    "## 4. Plot parent and children (best)"
   ]
  },
  {
   "cell_type": "code",
   "execution_count": 111,
   "metadata": {},
   "outputs": [
    {
     "data": {
      "text/plain": [
       "array([201, 203, 206, 212, 214, 215])"
      ]
     },
     "execution_count": 111,
     "metadata": {},
     "output_type": "execute_result"
    }
   ],
   "source": [
    "df12_parent = df12[(df12.percent_1 != 100) & (df12.percent_2 != 100) & (df12.percent_2 > 50)]\n",
    "df12_parent = df12_parent[df12_parent.np_1 > df12_parent.np_2]\n",
    "unique(df12_parent.sub_id_1)"
   ]
  },
  {
   "cell_type": "code",
   "execution_count": 112,
   "metadata": {
    "collapsed": true
   },
   "outputs": [],
   "source": [
    "df12_parent = df12[(df12.percent_1 != 100) & (df12.percent_2 != 100) & (df12.percent_2 > 50)]"
   ]
  },
  {
   "cell_type": "code",
   "execution_count": 113,
   "metadata": {},
   "outputs": [
    {
     "data": {
      "text/plain": [
       "Series([], Name: percent_2, dtype: int64)"
      ]
     },
     "execution_count": 113,
     "metadata": {},
     "output_type": "execute_result"
    }
   ],
   "source": [
    "df12_parent.percent_2[df12_parent.sub_id_2==j]"
   ]
  },
  {
   "cell_type": "code",
   "execution_count": 125,
   "metadata": {
    "scrolled": true
   },
   "outputs": [
    {
     "name": "stderr",
     "output_type": "stream",
     "text": [
      "Loading...: 100%|██████████| 6/6 [00:01<00:00,  5.56it/s]"
     ]
    },
    {
     "name": "stdout",
     "output_type": "stream",
     "text": [
      "finish\n"
     ]
    },
    {
     "name": "stderr",
     "output_type": "stream",
     "text": [
      "\n"
     ]
    }
   ],
   "source": [
    "df12_parent = df12[(df12.percent_1 != 100) & (df12.percent_2 != 100) & (df12.percent_2 > 50)]\n",
    "# df12_parent = df12_parent[df12_parent.np_1 > df12_parent.np_2]\n",
    "\n",
    "\n",
    "with PdfPages(tmp_tree_12) as pdf:\n",
    "\n",
    "    for i in tqdm(unique(df12_parent.sub_id_1), desc='Loading...'):\n",
    "\n",
    "        fig = p.figure(figsize=(15,7))\n",
    "        fig.suptitle('Parent and Children Substructures (parameter : %s and %s)' \n",
    "                     %(name_1, name_2), fontsize=20, x=0.45, y=0.94)\n",
    "        \n",
    "        gs = p.GridSpec(nrows=1, ncols=2)\n",
    "        \n",
    "        #-----------------------#\n",
    "        #  Parent and Children  #\n",
    "        #-----------------------#\n",
    "        \n",
    "        p.subplot(gs[0])\n",
    "        parent = df1[df1.ext_id==i].reset_index()\n",
    "        np_1 = int(unique(df12_parent.np_1[df12_parent.sub_id_1==i]))\n",
    "        pos = sqrt(parent.x**2+parent.y**2+parent.z**2)\n",
    "        vel = sqrt(parent.vx**2+parent.vy**2+parent.vz**2)\n",
    "        p.scatter(pos, vel, s=5, c='antiquewhite')\n",
    "        p.xlabel('x [kpc]')\n",
    "        p.ylabel('y [kpc]')\n",
    "\n",
    "        for j in df12_parent.sub_id_2[df12_parent.sub_id_1==i]:\n",
    "            child  = df2[df2.ext_id==j].reset_index()\n",
    "            common = intersect1d(parent.p_id,child.p_id)\n",
    "            member = in1d(child.p_id,parent.p_id)\n",
    "            np_2 = int(df12_parent.np_common[df12_parent.sub_id_2==j])\n",
    "            per_2 = int(df12_parent.percent_2[df12_parent.sub_id_2==j])\n",
    "            pos = sqrt(child.x**2+child.y**2+child.z**2)\n",
    "            vel = sqrt(child.vx**2+child.vy**2+child.vz**2)\n",
    "            p.scatter(pos[member==True], vel[member==True], s=5,\n",
    "                      label='Child %s (%s stars, %s%%)' %(j, np_2, per_2))\n",
    "\n",
    "        p.legend(bbox_to_anchor=(1.01, 1), ncol=1, frameon=False, labelspacing=0.8)\n",
    "        \n",
    "        gs.tight_layout(fig, rect=[0.05,0.05,0.8,0.9])\n",
    "        \n",
    "        pdf.savefig()\n",
    "        p.close()\n",
    "\n",
    "print('finish')"
   ]
  },
  {
   "cell_type": "code",
   "execution_count": null,
   "metadata": {
    "collapsed": true
   },
   "outputs": [],
   "source": []
  }
 ],
 "metadata": {
  "kernelspec": {
   "display_name": "Python 3",
   "language": "python",
   "name": "python3"
  },
  "language_info": {
   "codemirror_mode": {
    "name": "ipython",
    "version": 3
   },
   "file_extension": ".py",
   "mimetype": "text/x-python",
   "name": "python",
   "nbconvert_exporter": "python",
   "pygments_lexer": "ipython3",
   "version": "3.6.6"
  }
 },
 "nbformat": 4,
 "nbformat_minor": 2
}
