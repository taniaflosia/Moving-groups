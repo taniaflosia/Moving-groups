{
 "cells": [
  {
   "cell_type": "code",
   "execution_count": 1,
   "metadata": {},
   "outputs": [],
   "source": [
    "from numpy import *\n",
    "import pandas as pd\n",
    "import pylab as p\n",
    "import matplotlib\n",
    "from matplotlib.backends.backend_pdf import PdfPages\n",
    "import vaex\n",
    "import csv\n",
    "from scipy.stats import norm #for gaussian\n",
    "import os\n",
    "\n",
    "from tqdm import tqdm\n",
    "import subprocess as sub\n",
    "import time"
   ]
  },
  {
   "cell_type": "code",
   "execution_count": 7,
   "metadata": {},
   "outputs": [],
   "source": [
    "matplotlib.rcParams.update({'font.size': 14})"
   ]
  },
  {
   "cell_type": "markdown",
   "metadata": {},
   "source": [
    "# Run Rockstar"
   ]
  },
  {
   "cell_type": "code",
   "execution_count": 36,
   "metadata": {},
   "outputs": [
    {
     "name": "stdout",
     "output_type": "stream",
     "text": [
      "b'' b''\n"
     ]
    }
   ],
   "source": [
    "# ---------------------------\n",
    "# The parameter for this run\n",
    "# ---------------------------\n",
    "\n",
    "fof_b = 0.20\n",
    "fof_f = 0.80\n",
    "\n",
    "min_seed   = 10\n",
    "min_output = 10\n",
    "unb_thres  = 0\n",
    "\n",
    "input_file = '/input/input_6d_5'\n",
    "\n",
    "# -------------\n",
    "# My directory\n",
    "# -------------\n",
    "\n",
    "path = '/net/virgo01/data/users/virgini/rockstar/RC3/output/'\n",
    "\n",
    "value_f = str(round(fof_f*100))\n",
    "value_b = str(round(fof_b*100))\n",
    "value_n = str(min_output)\n",
    "value_t = str(int(unb_thres*100))\n",
    "\n",
    "dimension = '-6d'\n",
    "tmp_part = os.path.join(path, 'b' + value_b + '-f' + value_f + '-n' + value_n + '-t' + value_t + '-particles')\n",
    "tmp_subs = os.path.join(path, 'b' + value_b + '-f' + value_f + '-n' + value_n + '-t' + value_t + '-substructure')\n",
    "tmp_pdf  = os.path.join(path, 'b' + value_b + '-f' + value_f + '-n' + value_n + '-t' + value_t + '.pdf')\n",
    "\n",
    "# ---------------------------------------------------\n",
    "# Create the configuration file for running Rockstar\n",
    "# ---------------------------------------------------\n",
    "\n",
    "path_rs = '/net/virgo01/data/users/virgini/rockstar/RC3/'\n",
    "name_rs = 'substructure'\n",
    "tmp_cfg = os.path.join(path_rs, name_rs + '.cfg')\n",
    "\n",
    "fh = open(tmp_cfg, 'w')\n",
    "fh.write('FILE_FORMAT = \"ASCII\" \\n')\n",
    "fh.write('OUTPUT_FORMAT = \"ASCII\" \\n')\n",
    "fh.write('INBASE = \"/net/virgo01/data/users/virgini/rockstar/RC3/input\" \\n')\n",
    "fh.write('OUTBASE = \"/net/virgo01/data/users/virgini/rockstar/RC3/output\" \\n')\n",
    "fh.write('FULL_PARTICLE_CHUNKS = 1 \\n')\n",
    "fh.write('MIN_HALO_PARTICLES = ' + str(min_seed) + '\\n')\n",
    "fh.write('MIN_HALO_OUTPUT_SIZE = ' + str(min_output) + '\\n')\n",
    "fh.write('UNBOUND_THRESHOLD = ' + str(unb_thres) + '\\n')\n",
    "fh.write('FOF_LINKING_LENGTH = ' + str(fof_b) + '\\n')\n",
    "fh.write('FOF_FRACTION = ' + str(fof_f) + '\\n')\n",
    "fh.close()\n",
    "\n",
    "# -------------\n",
    "# Run Rockstar\n",
    "# -------------\n",
    "\n",
    "# start_time = time.time()\n",
    "\n",
    "input_rs = os.path.join(path_rs + input_file)\n",
    "popen = sub.Popen(['./rockstar', '-c', 'substructure.cfg', input_rs],stdout=sub.PIPE,stderr=sub.PIPE, cwd=path_rs)\n",
    "output, errors = popen.communicate()\n",
    "print(output, errors)\n",
    "\n",
    "# print(\"--- %s seconds ---\" % (time.time() - start_time))"
   ]
  },
  {
   "cell_type": "code",
   "execution_count": 37,
   "metadata": {},
   "outputs": [],
   "source": [
    "# ----------------\n",
    "# Rename the file\n",
    "# ----------------\n",
    "\n",
    "src_halo = os.path.join(path, 'halos_0.0.ascii')\n",
    "dst_halo = os.path.join(path, 'b' + value_b + '-f' + value_f + '-n' + value_n + '-t' + value_t + '-halo')\n",
    "\n",
    "src_part = os.path.join(path, 'halos_0.0.particles')\n",
    "dst_part = os.path.join(path, 'b' + value_b + '-f' + value_f + '-n' + value_n + '-t' + value_t + '-particles')\n",
    "\n",
    "os.rename(src_halo, dst_halo)\n",
    "os.rename(src_part, dst_part)"
   ]
  },
  {
   "cell_type": "code",
   "execution_count": 38,
   "metadata": {},
   "outputs": [
    {
     "data": {
      "text/plain": [
       "71"
      ]
     },
     "execution_count": 38,
     "metadata": {},
     "output_type": "execute_result"
    }
   ],
   "source": [
    "# --------------\n",
    "# Read the file\n",
    "# --------------\n",
    "\n",
    "dst_halo = '/net/virgo01/data/users/virgini/rockstar/RC3/output/b20-f80-n10-t0-halo'\n",
    "\n",
    "hdr_sub = ['id', 'num_p', 'mvir', 'mbound_vir', 'rvir', 'vmax', 'rvmax', 'vrms',\\\n",
    "           'x', 'y', 'z', 'vx', 'vy', 'vz', 'Jx', 'Jy', 'Jz', 'E', 'Spin', \\\n",
    "           'PosUncertainty', 'VelUncertainty', 'bulk_vx', 'bulk_vy', 'bulk_vz',\\\n",
    "           'BulkVelUnc', 'n_core', 'm200b', 'm200c', 'm500c', 'm2500c',\\\n",
    "           'Xoff', 'Voff', 'spin_bullock', 'b_to_a', 'c_to_a', \\\n",
    "           'A[x]', 'A[y]', 'A[z]', 'b_to_a(500c)', 'c_to_a(500c)', \\\n",
    "           'A[x](500c)', 'A[y](500c)', 'A[z](500c)', 'Rs', 'Rs_Klypin', 'T/|U|',\\\n",
    "           'M_pe_Behroozi', 'M_pe_Diemer', 'idx', 'i_so', 'i_ph', 'num_cp', 'mmetric']\n",
    "\n",
    "dx = pd.read_csv(dst_halo, comment='#', sep=' ', names=hdr_sub)\n",
    "dx.id.max()"
   ]
  },
  {
   "cell_type": "code",
   "execution_count": 3,
   "metadata": {},
   "outputs": [],
   "source": [
    "t1 = vaex.from_ascii('/net/virgo01/data/users/virgini/rockstar/RC3/output/b05-f40-n10-t70-halo', seperator=' ')\n",
    "t2 = vaex.from_ascii('/net/virgo01/data/users/virgini/rockstar/RC3/output/b05-f40-n10-t50-halo', seperator=' ')"
   ]
  },
  {
   "cell_type": "code",
   "execution_count": 15,
   "metadata": {},
   "outputs": [
    {
     "data": {
      "image/png": "[encoded data removed]",
      "text/plain": [
       "<matplotlib.figure.Figure at 0x7f7ff8017160>"
      ]
     },
     "metadata": {},
     "output_type": "display_data"
    }
   ],
   "source": [
    "p.figure(figsize=(14,7))\n",
    "p.hist(t2.evaluate('vrms'), bins=arange(-10,65,5), histtype='step', label='unbound_threshold=0.5')\n",
    "p.hist(t1.evaluate('vrms'), bins=arange(-10,65,5), histtype='step', label='unbound_threshold=0.7')\n",
    "p.xlabel('V rms'), p.ylabel('N substructure')\n",
    "p.legend(loc='upper left');\n",
    "p.savefig('/Users/users/virgini/Desktop/v_rms.png', format='png')"
   ]
  },
  {
   "cell_type": "code",
   "execution_count": 74,
   "metadata": {},
   "outputs": [
    {
     "data": {
      "text/plain": [
       "array([25.56377572])"
      ]
     },
     "execution_count": 74,
     "metadata": {},
     "output_type": "execute_result"
    }
   ],
   "source": [
    "t1.evaluate('sqrt(vx**2 + vy**2 + vz**2)', selection='id==0')"
   ]
  },
  {
   "cell_type": "code",
   "execution_count": 20,
   "metadata": {},
   "outputs": [],
   "source": [
    "hdr = ['x', 'y', 'z', 'vx', 'vy', 'vz', 'rs_id', 'as_int_id', 'int_id', 'ext_id']\n",
    "df  = pd.read_csv(tmp_part, sep=' ', comment='#', names=hdr)"
   ]
  },
  {
   "cell_type": "code",
   "execution_count": 21,
   "metadata": {},
   "outputs": [
    {
     "data": {
      "text/html": [
       "<div>\n",
       "<style scoped>\n",
       "    .dataframe tbody tr th:only-of-type {\n",
       "        vertical-align: middle;\n",
       "    }\n",
       "\n",
       "    .dataframe tbody tr th {\n",
       "        vertical-align: top;\n",
       "    }\n",
       "\n",
       "    .dataframe thead th {\n",
       "        text-align: right;\n",
       "    }\n",
       "</style>\n",
       "<table border=\"1\" class=\"dataframe\">\n",
       "  <thead>\n",
       "    <tr style=\"text-align: right;\">\n",
       "      <th></th>\n",
       "      <th>x</th>\n",
       "      <th>y</th>\n",
       "      <th>z</th>\n",
       "      <th>vx</th>\n",
       "      <th>vy</th>\n",
       "      <th>vz</th>\n",
       "      <th>rs_id</th>\n",
       "      <th>as_int_id</th>\n",
       "      <th>int_id</th>\n",
       "      <th>ext_id</th>\n",
       "    </tr>\n",
       "  </thead>\n",
       "  <tbody>\n",
       "    <tr>\n",
       "      <th>0</th>\n",
       "      <td>-0.161578</td>\n",
       "      <td>-0.047354</td>\n",
       "      <td>-0.150731</td>\n",
       "      <td>27.296129</td>\n",
       "      <td>-29.607311</td>\n",
       "      <td>-9.212117</td>\n",
       "      <td>24892</td>\n",
       "      <td>0</td>\n",
       "      <td>0</td>\n",
       "      <td>0</td>\n",
       "    </tr>\n",
       "    <tr>\n",
       "      <th>1</th>\n",
       "      <td>-0.154177</td>\n",
       "      <td>-0.053638</td>\n",
       "      <td>-0.151844</td>\n",
       "      <td>-11.698462</td>\n",
       "      <td>-19.707170</td>\n",
       "      <td>-12.113938</td>\n",
       "      <td>23604</td>\n",
       "      <td>0</td>\n",
       "      <td>0</td>\n",
       "      <td>0</td>\n",
       "    </tr>\n",
       "    <tr>\n",
       "      <th>2</th>\n",
       "      <td>-0.166757</td>\n",
       "      <td>-0.051655</td>\n",
       "      <td>-0.152518</td>\n",
       "      <td>-3.578721</td>\n",
       "      <td>-7.201449</td>\n",
       "      <td>-6.213304</td>\n",
       "      <td>23703</td>\n",
       "      <td>0</td>\n",
       "      <td>0</td>\n",
       "      <td>0</td>\n",
       "    </tr>\n",
       "    <tr>\n",
       "      <th>3</th>\n",
       "      <td>-0.162430</td>\n",
       "      <td>-0.049398</td>\n",
       "      <td>-0.153634</td>\n",
       "      <td>-3.641848</td>\n",
       "      <td>5.582477</td>\n",
       "      <td>-13.681236</td>\n",
       "      <td>24825</td>\n",
       "      <td>0</td>\n",
       "      <td>0</td>\n",
       "      <td>0</td>\n",
       "    </tr>\n",
       "    <tr>\n",
       "      <th>4</th>\n",
       "      <td>-0.156460</td>\n",
       "      <td>-0.050134</td>\n",
       "      <td>-0.154643</td>\n",
       "      <td>22.249971</td>\n",
       "      <td>20.892517</td>\n",
       "      <td>-28.912642</td>\n",
       "      <td>23615</td>\n",
       "      <td>0</td>\n",
       "      <td>0</td>\n",
       "      <td>0</td>\n",
       "    </tr>\n",
       "  </tbody>\n",
       "</table>\n",
       "</div>"
      ],
      "text/plain": [
       "          x         y         z         vx         vy         vz  rs_id  \\\n",
       "0 -0.161578 -0.047354 -0.150731  27.296129 -29.607311  -9.212117  24892   \n",
       "1 -0.154177 -0.053638 -0.151844 -11.698462 -19.707170 -12.113938  23604   \n",
       "2 -0.166757 -0.051655 -0.152518  -3.578721  -7.201449  -6.213304  23703   \n",
       "3 -0.162430 -0.049398 -0.153634  -3.641848   5.582477 -13.681236  24825   \n",
       "4 -0.156460 -0.050134 -0.154643  22.249971  20.892517 -28.912642  23615   \n",
       "\n",
       "   as_int_id  int_id  ext_id  \n",
       "0          0       0       0  \n",
       "1          0       0       0  \n",
       "2          0       0       0  \n",
       "3          0       0       0  \n",
       "4          0       0       0  "
      ]
     },
     "execution_count": 21,
     "metadata": {},
     "output_type": "execute_result"
    }
   ],
   "source": [
    "df.head()"
   ]
  },
  {
   "cell_type": "markdown",
   "metadata": {},
   "source": [
    "## Read the data"
   ]
  },
  {
   "cell_type": "code",
   "execution_count": 34,
   "metadata": {},
   "outputs": [],
   "source": [
    "hdr = ['x', 'y', 'z', 'vx', 'vy', 'vz', 'rs_id', 'as_int_id', 'int_id', 'ext_id']\n",
    "df  = pd.read_csv(tmp_part, sep=' ', comment='#', names=hdr)\n",
    "\n",
    "# ------------------------------------------\n",
    "# Select the deepest level of substructures\n",
    "# ------------------------------------------\n",
    "\n",
    "cond1 = (df.as_int_id == df.int_id) & (df.ext_id != -1)\n",
    "df1 = df[cond1]\n",
    "\n",
    "# ------------------------------\n",
    "# Calculate galactic coordinate\n",
    "# ------------------------------\n",
    "\n",
    "df = df1\n",
    "ds = vaex.from_pandas(df)\n",
    "ds.add_virtual_columns_cartesian_to_spherical(alpha='l180')\n",
    "ds.add_virtual_column(\"l\", \"(l180+360)%360\")"
   ]
  },
  {
   "cell_type": "markdown",
   "metadata": {},
   "source": [
    "## Create database of substructures"
   ]
  },
  {
   "cell_type": "code",
   "execution_count": null,
   "metadata": {},
   "outputs": [],
   "source": [
    "df = df1\n",
    "\n",
    "with open(tmp_subs,'w') as f:\n",
    "    wr = csv.writer(f, delimiter=' ', lineterminator='\\n',)\n",
    "    for i in range(max(df.ext_id)):\n",
    "        idx = df.ext_id == i\n",
    "        selectionstr = 'ext_id=='+str(i)\n",
    "        ds.select(selectionstr, name='sub') \n",
    "        s_id = str(i+1)\n",
    "        nump = len(df.ext_id[idx])\n",
    "        dist = ds.evaluate('distance', selection='sub').mean()\n",
    "        sigm = ds.evaluate('distance', selection='sub').std()\n",
    "        gall = ds.evaluate('l', selection='sub').mean() #+180\n",
    "        stdl = ds.evaluate('l', selection='sub').std()\n",
    "        galb = ds.evaluate('b', selection='sub').mean()\n",
    "        stdb = ds.evaluate('b', selection='sub').std()\n",
    "        meanx = ds.evaluate('x', selection='sub').mean()\n",
    "        meany = ds.evaluate('y', selection='sub').mean()\n",
    "        meanz = ds.evaluate('z', selection='sub').mean()\n",
    "        xmax = max(abs(df.x[idx]-meanx))\n",
    "        ymax = max(abs(df.y[idx]-meany))\n",
    "        zmax = max(abs(df.z[idx]-meanz))\n",
    "        rmax = sqrt(xmax*xmax+ymax*ymax+zmax*zmax)\n",
    "        diam = round(2*rmax*1e3, 2)\n",
    "        vel = sqrt(df.vx[idx]**2+df.vy[idx]**2+df.vz[idx]**2)\n",
    "        meanv = mean(vel)\n",
    "        stdv  = sqrt((std(df.vx[idx]**2)+std(df.vy[idx]**2)+std(df.vz[idx]**2))/3)        \n",
    "        wr.writerow([s_id, nump, dist, sigm, meanv, stdv, gall, stdl, galb, stdb, diam])\n",
    "\n",
    "hdr_sub = ['sub_id', 'num_p','mean_d', 'std_d', 'mean_v', 'std_v', 'l', 'std_l','b', 'std_b', 'diam']\n",
    "f = pd.read_csv(tmp_subs, sep=' ', comment='#', names=hdr_sub) "
   ]
  },
  {
   "cell_type": "code",
   "execution_count": null,
   "metadata": {},
   "outputs": [],
   "source": [
    "for i in range(10):\n",
    "    if f.l[i] < 0:\n",
    "        print(f.l[i]+360)"
   ]
  },
  {
   "cell_type": "markdown",
   "metadata": {},
   "source": [
    "## What is the smallest diameter of the substructure?"
   ]
  },
  {
   "cell_type": "code",
   "execution_count": null,
   "metadata": {},
   "outputs": [],
   "source": [
    "diam_min, diam_max = min(f.diam), max(f.diam)\n",
    "print(diam_min, 'pc', diam_max, 'pc')"
   ]
  },
  {
   "cell_type": "code",
   "execution_count": null,
   "metadata": {},
   "outputs": [],
   "source": [
    "diam = 0.2 #kpc\n",
    "width = diam*1e3\n",
    "int(width)"
   ]
  },
  {
   "cell_type": "markdown",
   "metadata": {},
   "source": [
    "# Velocity dispersion"
   ]
  },
  {
   "cell_type": "code",
   "execution_count": null,
   "metadata": {},
   "outputs": [],
   "source": [
    "tmp_f = '/net/virgo01/data/users/virgini/rockstar/RC3/output/b20-f70-n10-t70-substructure'\n",
    "f = pd.read_csv(tmp_f, sep=' ', comment='#', names=hdr_sub)\n",
    "p.hist(f.std_v, label='b 0.10 \\nf  0.70')\n",
    "p.legend(frameon=False)\n",
    "p.show()\n",
    "\n",
    "(len(f[f.std_v <= 20])/len(f))*100, (len(f[f.std_v <= 10])/len(f))*100, (len(f[f.std_v <= 5])/len(f))*100\n",
    "# f[f.std_v <= 5]"
   ]
  },
  {
   "cell_type": "raw",
   "metadata": {
    "scrolled": true
   },
   "source": [
    "sqrt((2.21**+1.78**2+1.42**2)/3)"
   ]
  },
  {
   "cell_type": "markdown",
   "metadata": {},
   "source": [
    "## Plot all substructures"
   ]
  },
  {
   "cell_type": "code",
   "execution_count": 75,
   "metadata": {
    "collapsed": true
   },
   "outputs": [],
   "source": [
    "# Taken from notebook py-13\n",
    "\n",
    "id_1 = [100, 145, 204, 206, 207, 210, 213]\n",
    "id_2 = [205, 206, 208, 209, 211, 212, 213, 215, 218]\n",
    "id_3 = [1, 2, 3, 4, 5, 7, 10, 13, 17, 18, 22, 25, 28, 35]\n",
    "id_4 = [2,  3,  4,  5,  6,  7,  8,  9, 10, 11, 12, 13, 14, 15, 17, 18, 19, 20, 21, 22, 23, 26, 29, 31, 34, 42, 43]\n",
    "\n",
    "my_id = id_4\n",
    "my_exp = 4"
   ]
  },
  {
   "cell_type": "code",
   "execution_count": 35,
   "metadata": {},
   "outputs": [
    {
     "data": {
      "text/plain": [
       "'/net/virgo01/data/users/virgini/rockstar/RC3/output/b20-f80-n10-t70-6d.pdf'"
      ]
     },
     "execution_count": 35,
     "metadata": {},
     "output_type": "execute_result"
    }
   ],
   "source": [
    "tmp_pdf"
   ]
  },
  {
   "cell_type": "code",
   "execution_count": 36,
   "metadata": {},
   "outputs": [
    {
     "name": "stderr",
     "output_type": "stream",
     "text": [
      "\r",
      "Loading...:   0%|          | 0/48 [00:00<?, ?it/s]"
     ]
    },
    {
     "name": "stdout",
     "output_type": "stream",
     "text": [
      "/net/virgo01/data/users/virgini/rockstar/RC3/input/input_6d_5_corrected\n"
     ]
    },
    {
     "name": "stderr",
     "output_type": "stream",
     "text": [
      "Loading...: 100%|██████████| 48/48 [00:49<00:00,  1.02s/it]"
     ]
    },
    {
     "name": "stdout",
     "output_type": "stream",
     "text": [
      "finish\n"
     ]
    },
    {
     "name": "stderr",
     "output_type": "stream",
     "text": [
      "\n"
     ]
    }
   ],
   "source": [
    "print(input_rs)\n",
    "\n",
    "\n",
    "df = df1\n",
    "diam = 0.150 #kpc\n",
    "width = int(diam*2*1e3)\n",
    "\n",
    "with PdfPages(tmp_pdf) as pdf:\n",
    "    \n",
    "    for i in tqdm(range(max(df.ext_id)+1), desc='Loading...'):\n",
    "        idx = df.ext_id == i\n",
    "        selectionstr = 'ext_id=='+str(i)\n",
    "        ds.select(selectionstr, name='sub')\n",
    "       \n",
    "        if len(df.ext_id[idx]) < 1000:\n",
    "        \n",
    "            fig = p.figure(figsize=(14,20))\n",
    "\n",
    "            # ------------------------------------\n",
    "            # first plot: distribution in the sky\n",
    "            # ------------------------------------\n",
    "\n",
    "            gs1 = p.GridSpec(ncols=4, nrows=3)\n",
    "            gs1.update(left=0.05, right=0.95)\n",
    "\n",
    "            p.subplot(gs1[0,:])\n",
    "\n",
    "            p.title('Substructure %s' %(str(i)), fontsize='x-large')\n",
    "            ds.scatter(x='l', y='b', selection='sub', s=3, length_check=False)\n",
    "            p.text(10, 75, 'Number of stars : %s' %len(df.ext_id[idx]))\n",
    "            dist = round(ds.evaluate('distance', selection='sub').mean(), 2)\n",
    "            sigm = round(ds.evaluate('distance', selection='sub').std(), 2)\n",
    "            p.text(10, 65, 'Distance : %s $\\pm$ %s kpc' %(dist, sigm))\n",
    "            gall = round(ds.evaluate('l', selection='sub').mean(), 2)\n",
    "            galb = round(ds.evaluate('b', selection='sub').mean(), 2)\n",
    "            p.text(10, 55, 'Mean position (l,b) : %s, %s' %(gall, galb))\n",
    "            p.text(315, 75, '3D FOF $b$ : %s' %fof_b)\n",
    "            p.text(315, 65, '6D FOF $f$  : %s' %fof_f)\n",
    "            p.xlim(0,360)\n",
    "            p.ylim(-90,90)\n",
    "            gs1.tight_layout(fig)\n",
    "\n",
    "            # ------------------------------------------\n",
    "            # second plot: position and velocity vector\n",
    "            # ------------------------------------------\n",
    "\n",
    "            p.subplot(gs1[1,:-2])\n",
    "\n",
    "            ds.scatter(x='x', y='y', selection='sub', s=16, length_check=False)  # position\n",
    "\n",
    "            meanx = ds.evaluate('x', selection='sub').mean()                    # center of position\n",
    "            meany = ds.evaluate('y', selection='sub').mean()\n",
    "            meanz = ds.evaluate('z', selection='sub').mean()\n",
    "            p.scatter(x=meanx, y=meany, c='red', s=100, marker='x')  \n",
    "\n",
    "            tmpx  = ds.evaluate('x', selection='sub')                           # velocity vector\n",
    "            tmpy  = ds.evaluate('y', selection='sub')\n",
    "            tmpz  = ds.evaluate('z', selection='sub')\n",
    "            tmpvx = ds.evaluate('vx', selection='sub') / 1000\n",
    "            tmpvy = ds.evaluate('vy', selection='sub') / 1000\n",
    "            tmpvz = ds.evaluate('vz', selection='sub') / 1000\n",
    "            for j in range(ds.selected_length('sub')):\n",
    "                p.arrow(tmpx[j], tmpy[j], dx=tmpvx[j], dy=tmpvy[j], width=0, head_width=0.0005, fc='black')\n",
    "\n",
    "            p.xlabel('x [kpc]', fontsize=12)\n",
    "            p.ylabel('y [kpc]', fontsize=12)\n",
    "            p.xlim(meanx-diam, meanx+diam)\n",
    "            p.ylim(meany-diam, meany+diam)\n",
    "            p.title('Box size = %s pc x %s pc' %(width, width), loc='left')\n",
    "            circle_50  = p.Circle((meanx,meany), radius=0.050, ec='red', fc='none', label='rad 50 pc')\n",
    "            p.gca().add_patch(circle_50)\n",
    "            circle_100 = p.Circle((meanx,meany), radius=0.100, ec='blue', fc='none', label='rad 100 pc')\n",
    "            p.gca().add_patch(circle_100)\n",
    "            p.legend(frameon=False)\n",
    "\n",
    "\n",
    "            p.subplot(gs1[1,-2:])\n",
    "            ds.scatter(x='z', y='y', selection='sub', s=16, length_check=False)\n",
    "\n",
    "            p.xlabel('z [kpc]', fontsize=12)\n",
    "            p.ylabel('y [kpc]', fontsize=12, visible=False)\n",
    "            p.xlim(meanz-diam, meanz+diam)\n",
    "            p.ylim(meany-diam, meany+diam)\n",
    "            circle_50  = p.Circle((meanz,meany), radius=0.050, ec='red', fc='none', label='rad 50 pc')\n",
    "            p.gca().add_patch(circle_50)\n",
    "            circle_100 = p.Circle((meanz,meany), radius=0.100, ec='blue', fc='none', label='rad 100 pc')\n",
    "            p.gca().add_patch(circle_100)\n",
    "            p.legend(frameon=False)\n",
    "\n",
    "            p.scatter(x=meanz, y=meany, c='red', s=100, marker='x')\n",
    "            for j in range(ds.selected_length('sub')):\n",
    "                p.arrow(tmpz[j], tmpy[j], dx=tmpvz[j], dy=tmpvy[j], width=0, head_width=0.0005, fc='black')\n",
    "\n",
    "            gs1.tight_layout(fig, rect=[0.05, 0.05, 0.95, 0.95]) #left, bottom, right, top\n",
    "\n",
    "            # ----------------------------------\n",
    "            # third plot: velocity distribution\n",
    "            # ----------------------------------\n",
    "\n",
    "            gs2 = p.GridSpec(ncols=3, nrows=1)\n",
    "            gs2.update(top=0.30, bottom=0.05)\n",
    "\n",
    "            fig.add_subplot(gs2[0,0])\n",
    "\n",
    "            h,b,_ = p.hist(df.vx[idx], histtype='bar', ec='k', fc='w')\n",
    "            norm_const = trapz(h, [0.5*(b[i]+b[i+1]) for i in range(len(b)-1)])\n",
    "            meanvx = ds.evaluate('vx', selection='sub').mean()\n",
    "            sigvx  = ds.evaluate('vx', selection='sub').std()\n",
    "            p.axvline(x=meanvx, ls='--', color='red')\n",
    "            p.xlabel('$v_x$ [km/s]', fontsize=12)\n",
    "            p.ylabel('N', fontsize=12)\n",
    "            p.title('$\\mu = %s , \\sigma = %s$' %(round(meanvx, 2), round(sigvx,2)), loc='left', fontsize=10)\n",
    "            x = linspace(min(df.vx[idx]), max(df.vx[idx]), num=50)\n",
    "            y = norm.pdf(x, meanvx, sigvx)\n",
    "            p.plot(x,norm_const*y)\n",
    "\n",
    "            fig.add_subplot(gs2[0,1])\n",
    "            h, b, _ = p.hist(df.vy[idx], histtype='bar', ec='k', fc='w')\n",
    "            norm_const = trapz(h, [0.5*(b[i]+b[i+1]) for i in range(len(b)-1)])\n",
    "            meanvy = ds.evaluate('vy', selection='sub').mean()\n",
    "            sigvy = ds.evaluate('vy', selection='sub').std()\n",
    "            p.axvline(x=meanvy, ls='--', color='red')\n",
    "            p.xlabel('$v_y$ [km/s]', fontsize=12)\n",
    "            p.title('$\\mu = %s , \\sigma = %s$' %(round(meanvy, 2), round(sigvy,2)), loc='left', fontsize=10)\n",
    "            x = linspace(min(df.vy[idx]), max(df.vy[idx]), num=50)\n",
    "            y = norm.pdf(x, meanvy, sigvy)\n",
    "            p.plot(x,norm_const*y)\n",
    "\n",
    "            fig.add_subplot(gs2[0,2])\n",
    "            h, b, _ = p.hist(df.vz[idx], histtype='bar', ec='k', fc='w')\n",
    "            norm_const = trapz(h, [0.5*(b[i]+b[i+1]) for i in range(len(b)-1)])\n",
    "            meanvz = ds.evaluate('vz', selection='sub').mean()\n",
    "            sigvz = ds.evaluate('vz', selection='sub').std()\n",
    "            p.axvline(x=meanvz, ls='--', color='red')\n",
    "            p.xlabel('$v_z$ [km/s]', fontsize=12)\n",
    "            p.title('$\\mu = %s , \\sigma = %s$' %(round(meanvz, 2), round(sigvz,2)), loc='left', fontsize=10)\n",
    "            x = linspace(min(df.vz[idx]), max(df.vz[idx]), num=50)\n",
    "            y = norm.pdf(x, meanvz, sigvz)\n",
    "            p.plot(x,norm_const*y)\n",
    "\n",
    "            gs2.tight_layout\n",
    "\n",
    "            pdf.savefig()\n",
    "            p.close()\n",
    "\n",
    "print('finish')"
   ]
  },
  {
   "cell_type": "markdown",
   "metadata": {
    "collapsed": true
   },
   "source": [
    "## Velocity of the substructures"
   ]
  },
  {
   "cell_type": "code",
   "execution_count": 26,
   "metadata": {},
   "outputs": [],
   "source": [
    "tmp_sub1 = '/net/virgo01/data/users/virgini/rockstar/RC3/output/b05-f40-n10-t70-halo'\n",
    "tmp_sub2 = '/net/virgo01/data/users/virgini/rockstar/RC3/output/b05-f80-n10-t70-halo'\n",
    "tmp_sub3 = '/net/virgo01/data/users/virgini/rockstar/RC3/output/b20-f40-n10-t70-halo'\n",
    "tmp_sub4 = '/net/virgo01/data/users/virgini/rockstar/RC3/output/b20-f80-n10-t70-halo'\n",
    "tmp_sub5 = '/net/virgo01/data/users/virgini/rockstar/RC3/output/b70-f40-n10-t70-halo'\n",
    "tmp_sub6 = '/net/virgo01/data/users/virgini/rockstar/RC3/output/b70-f80-n10-t70-halo'\n",
    "\n",
    "hdr_sub = ['id', 'num_p', 'mvir', 'mbound_vir', 'rvir', 'vmax', 'rvmax', 'vrms',\\\n",
    "           'x', 'y', 'z', 'vx', 'vy', 'vz', 'Jx', 'Jy', 'Jz', 'E', 'Spin', \\\n",
    "           'PosUncertainty', 'VelUncertainty', 'bulk_vx', 'bulk_vy', 'bulk_vz',\\\n",
    "           'BulkVelUnc', 'n_core', 'm200b', 'm200c', 'm500c', 'm2500c',\\\n",
    "           'Xoff', 'Voff', 'spin_bullock', 'b_to_a', 'c_to_a', \\\n",
    "           'A[x]', 'A[y]', 'A[z]', 'b_to_a(500c)', 'c_to_a(500c)', \\\n",
    "           'A[x](500c)', 'A[y](500c)', 'A[z](500c)', 'Rs', 'Rs_Klypin', 'T/|U|',\\\n",
    "           'M_pe_Behroozi', 'M_pe_Diemer', 'idx', 'i_so', 'i_ph', 'num_cp', 'mmetric']\n",
    "\n",
    "df_sub1 = pd.read_csv(tmp_sub1, comment='#', sep=' ', names=hdr_sub, usecols=['x', 'y', 'z', 'vx', 'vy', 'vz', 'num_p'])\n",
    "df_sub2 = pd.read_csv(tmp_sub2, comment='#', sep=' ', names=hdr_sub, usecols=['x', 'y', 'z', 'vx', 'vy', 'vz', 'num_p'])\n",
    "df_sub3 = pd.read_csv(tmp_sub3, comment='#', sep=' ', names=hdr_sub, usecols=['x', 'y', 'z', 'vx', 'vy', 'vz', 'num_p'])\n",
    "df_sub4 = pd.read_csv(tmp_sub4, comment='#', sep=' ', names=hdr_sub, usecols=['x', 'y', 'z', 'vx', 'vy', 'vz', 'num_p'])\n",
    "df_sub5 = pd.read_csv(tmp_sub5, comment='#', sep=' ', names=hdr_sub, usecols=['x', 'y', 'z', 'vx', 'vy', 'vz', 'num_p'])\n",
    "df_sub6 = pd.read_csv(tmp_sub6, comment='#', sep=' ', names=hdr_sub, usecols=['x', 'y', 'z', 'vx', 'vy', 'vz', 'num_p'])"
   ]
  },
  {
   "cell_type": "markdown",
   "metadata": {},
   "source": [
    "## Heliocentric"
   ]
  },
  {
   "cell_type": "code",
   "execution_count": 38,
   "metadata": {},
   "outputs": [],
   "source": [
    "# Change k to choose which df_sub and title we want to use\n",
    "k = 5\n",
    "\n",
    "df_sub_all = [df_sub1, df_sub2, df_sub3, df_sub4, df_sub5, df_sub6]\n",
    "title = ['Experiment 1', 'Experiment 2', 'Experiment 3', 'Experiment 4', 'Experiment 5', 'Experiment 6']\n",
    "\n",
    "df_sub = df_sub_all[k]\n",
    "\n",
    "# Don't forget to change the name, too :)\n",
    "png_hel = '/net/virgo01/data/users/virgini/rockstar/RC3/output/Exp6-vel-subs-hel.png'"
   ]
  },
  {
   "cell_type": "code",
   "execution_count": 39,
   "metadata": {
    "scrolled": false
   },
   "outputs": [
    {
     "data": {
      "image/png": "[encoded data removed]",
      "text/plain": [
       "<matplotlib.figure.Figure at 0x7f1fd9be99e8>"
      ]
     },
     "metadata": {},
     "output_type": "display_data"
    }
   ],
   "source": [
    "fig = p.figure(figsize=(14,6))\n",
    "\n",
    "p.subplot(121)\n",
    "for k in [5]:\n",
    "    df_sub = df_sub_all[k]\n",
    "    for i in range(len(df_sub)):\n",
    "        p.arrow(df_sub.x[i], df_sub.y[i], df_sub.vx[i]*0.005, df_sub.vy[i]*0.005, width=0, head_width=0.005, alpha=0.3)\n",
    "    p.scatter(df_sub.x, df_sub.y, label='Substructures')\n",
    "p.scatter(0,0, c='orange', s=50, label='Sun')\n",
    "p.xlabel('x [kpc]', fontsize='large'), p.ylabel('y [kpc]', fontsize='large')\n",
    "p.xlim(-0.4, 0.4), p.ylim(-0.5, 0.3)\n",
    "p.tick_params(labelsize='large')\n",
    "p.title(title[k], fontsize='large')\n",
    "p.legend(loc='upper left')\n",
    "\n",
    "p.subplot(122)\n",
    "for i in range(len(df_sub)):\n",
    "    p.arrow(df_sub.z[i], df_sub.y[i], df_sub.vz[i]*0.005, df_sub.vy[i]*0.005, width=0, head_width=0.005, alpha=0.3)\n",
    "p.scatter(0,0, c='orange', s=50, label='Sun')\n",
    "p.scatter(df_sub.z, df_sub.y, label='Substructures')\n",
    "p.xlabel('z [kpc]', fontsize='large')\n",
    "p.xlim(-0.5, 0.3), p.ylim(-0.5, 0.3)\n",
    "p.tick_params(labelsize='large')\n",
    "p.title(title[k], fontsize='large')\n",
    "p.legend()\n",
    "\n",
    "fig.tight_layout()\n",
    "p.savefig(png_hel, format='png')\n",
    "p.show(fig)"
   ]
  },
  {
   "cell_type": "markdown",
   "metadata": {},
   "source": [
    "## Galactocentric"
   ]
  },
  {
   "cell_type": "code",
   "execution_count": null,
   "metadata": {
    "collapsed": true
   },
   "outputs": [],
   "source": [
    "# Change k to choose which df_sub and title we want to use\n",
    "k = 3\n",
    "\n",
    "df_sub_all = [df_sub1, df_sub2, df_sub3, df_sub4]\n",
    "title = ['Experiment 1', 'Experiment 2', 'Experiment 3', 'Experiment 4']\n",
    "\n",
    "df_sub = df_sub_all[k]\n",
    "\n",
    "# Don't forget to change the name, too :) \n",
    "png_gal = '/net/virgo01/data/users/virgini/rockstar/RC3/output/Exp4-vel-subs-gal.png'  #!! Change this"
   ]
  },
  {
   "cell_type": "code",
   "execution_count": null,
   "metadata": {
    "collapsed": true
   },
   "outputs": [],
   "source": [
    "# We need to convert the result into galactocentric coordinate to see how it behaves in the disk\n",
    "\n",
    "vx_sun = 11.1\n",
    "vy_sun = 12.24\n",
    "vz_sun = 7.25\n",
    "vy_cir = 220\n",
    "R0 = -8\n",
    "\n",
    "df_sub.vx_gal = df_sub.vx + vx_sun\n",
    "df_sub.vy_gal = df_sub.vy + vy_sun + vy_cir\n",
    "df_sub.vz_gal = df_sub.vx + vz_sun\n",
    "df_sub.x_gal  = df_sub.x  + R0"
   ]
  },
  {
   "cell_type": "code",
   "execution_count": null,
   "metadata": {
    "collapsed": true,
    "scrolled": false
   },
   "outputs": [],
   "source": [
    "fig = p.figure(figsize=(14,6))\n",
    "\n",
    "p.subplot(121)\n",
    "for i in range(len(df_sub)):\n",
    "    p.arrow(df_sub.x_gal[i], df_sub.y[i], df_sub.vx_gal[i]*0.0005, df_sub.vy_gal[i]*0.0005, width=0, head_width=0.005, alpha=0.3)\n",
    "p.scatter(-8,0, c='orange', s=50, label='Sun')\n",
    "p.scatter(df_sub.x_gal, df_sub.y, c='green', label='Substructures')\n",
    "p.xlabel('x [kpc]', fontsize='large'), p.ylabel('y [kpc]', fontsize='large')\n",
    "p.xlim(-8.4, -7.5), p.ylim(-0.4, 0.4)\n",
    "p.tick_params(labelsize='large')\n",
    "p.title('Experiment 4', fontsize='large')   #!! Change this\n",
    "p.legend(loc='upper left')\n",
    "\n",
    "p.subplot(122)\n",
    "for i in range(len(df_sub)):\n",
    "    p.arrow(df_sub.z[i], df_sub.y[i], df_sub.vz_gal[i]*0.0005, df_sub.vy_gal[i]*0.0005, width=0, head_width=0.005, alpha=0.3)\n",
    "p.scatter(0,0, c='orange', s=50, label='Sun')\n",
    "p.scatter(df_sub.z, df_sub.y, c='green', label='Substructures')\n",
    "p.xlabel('z [kpc]', fontsize='large')\n",
    "p.xlim(-0.4, 0.3), p.ylim(-0.4, 0.4)\n",
    "p.tick_params(labelsize='large')\n",
    "p.title('Experiment 4', fontsize='large')   #!! Change this\n",
    "p.legend()\n",
    "\n",
    "fig.tight_layout()\n",
    "p.savefig(png_gal, format='png')\n",
    "p.show(fig)"
   ]
  },
  {
   "cell_type": "markdown",
   "metadata": {},
   "source": [
    "## Colorful"
   ]
  },
  {
   "cell_type": "code",
   "execution_count": null,
   "metadata": {
    "collapsed": true,
    "scrolled": true
   },
   "outputs": [],
   "source": [
    "fig = p.figure(figsize=(17,8))\n",
    "p.suptitle('Plot of all substructures (galactocentric coordinate)', fontsize='xx-large')\n",
    "\n",
    "p.subplot(121)\n",
    "p.scatter(-8,0, c='orange', s=50, label='Sun')\n",
    "labels = {'l1' : '0   < n$_{star}$ < 50', 'l2' : '50 < n$_{star}$ < 100', 'l3' : 'n$_{star}$ > 100'}\n",
    "\n",
    "for i in range(len(df_sub)):\n",
    "    if df_sub.num_p[i] <= 50:\n",
    "        p.scatter(df_sub.x[i], df_sub.y[i], s=20, c='blue', label=labels['l1'])\n",
    "        labels['l1'] = '_nolegend_'\n",
    "    if df_sub.num_p[i] >= 51:\n",
    "        p.scatter(df_sub.x[i], df_sub.y[i], s=20, c='green', label=labels['l2'])\n",
    "        labels['l2'] = '_nolegend_'\n",
    "    if df_sub.num_p[i] > 100:\n",
    "        p.scatter(df_sub.x[i], df_sub.y[i], s=20, c='red', label=labels['l3'])\n",
    "        labels['l3'] = '_nolegend_'\n",
    "            \n",
    "for k in range(len(df_sub)):\n",
    "    p.arrow(df_sub.x[k], df_sub.y[k], df_sub.vx[k]*0.0001, df_sub.vy[k]*0.0001,\\\n",
    "            width=0, head_width=0.005, ec='grey')\n",
    "\n",
    "p.xlabel('x [kpc]', fontsize='large'), p.ylabel('y [kpc]', fontsize='large')\n",
    "p.xlim(-8.4, -7.6), p.ylim(-0.5, 0.3)\n",
    "p.title('3D FOF = 0.1 \\n6D FOF = 0.9 \\n', loc='left', fontsize='large')\n",
    "p.legend()\n",
    "\n",
    "p.subplot(122)\n",
    "p.scatter(0,0, c='orange', s=50, label='Sun')\n",
    "labels = {'l1' : '0   < n$_{star}$ < 50', 'l2' : '50 < n$_{star}$ < 100', 'l3' : 'n$_{star}$ > 100'}\n",
    "for i in range(len(df_sub)):\n",
    "    if df_sub.num_p[i] <= 50:\n",
    "        p.scatter(df_sub.z[i], df_sub.y[i], s=20, c='blue', label=labels['l1'])\n",
    "        labels['l1'] = '_nolegend_'\n",
    "    if df_sub.num_p[i] >= 51:\n",
    "        p.scatter(df_sub.z[i], df_sub.y[i], s=20, c='green', label=labels['l2'])\n",
    "        labels['l2'] = '_nolegend_'\n",
    "    if df_sub.num_p[i] > 100:\n",
    "        p.scatter(df_sub.z[i], df_sub.y[i], s=20, c='red', label=labels['l3'])\n",
    "        labels['l3'] = '_nolegend_'\n",
    "p.legend()\n",
    "\n",
    "for k in range(len(df_sub)):\n",
    "    p.arrow(df_sub.z[k], df_sub.y[k], df_sub.vz[k]*0.0001, df_sub.vy[k]*0.0001,\\\n",
    "            width=0, head_width=0.005, ec='grey')\n",
    "\n",
    "p.xlabel('z [kpc]', fontsize='large'), p.ylabel('y [kpc]', fontsize='large')\n",
    "p.xlim(-0.5, 0.3), p.ylim(-0.5, 0.3)\n",
    "p.show(fig)\n",
    "\n",
    "fig2 = p.figure(figsize=(15,6))\n",
    "p.suptitle('Velocity distribution of substructures (heliocentric coordinate)')\n",
    "p.subplot(131), p.hist(df_sub.vx), p.xlabel('$v_x$', fontsize='large'), p.ylabel('$N$', fontsize='large')\n",
    "p.subplot(132), p.hist(df_sub.vy), p.xlabel('v$_y$', fontsize='large'), p.ylabel('$N$', fontsize='large')\n",
    "p.subplot(133), p.hist(df_sub.vz), p.xlabel('v$_z$', fontsize='large'), p.ylabel('$N$', fontsize='large')\n",
    "p.show(fig2)\n",
    "\n",
    "pdf = PdfPages('/net/virgo01/data/users/virgini/rockstar/RC3/output/b10-f90-n10-t70-xyz-coba.pdf')\n",
    "pdf.savefig(fig)\n",
    "pdf.savefig(fig2)\n",
    "pdf.close()"
   ]
  },
  {
   "cell_type": "code",
   "execution_count": null,
   "metadata": {
    "collapsed": true
   },
   "outputs": [],
   "source": [
    "df_sub.shape"
   ]
  },
  {
   "cell_type": "code",
   "execution_count": null,
   "metadata": {
    "collapsed": true
   },
   "outputs": [],
   "source": [
    "p.hist(df_sub.vx, label='v$_x$'), p.legend(fontsize=16), p.show()\n",
    "p.hist(df_sub.vy, label='v$_y$'), p.legend(fontsize=16), p.show()\n",
    "p.hist(df_sub.vz, label='v$_z$'), p.legend(fontsize=16), p.show()"
   ]
  },
  {
   "cell_type": "markdown",
   "metadata": {},
   "source": [
    "## Do we find Pleiades?"
   ]
  },
  {
   "cell_type": "code",
   "execution_count": null,
   "metadata": {
    "collapsed": true
   },
   "outputs": [],
   "source": [
    "ds.select('(l>150) & (l<179) & (b<-10) & (b>-30)', name='pleiades')"
   ]
  },
  {
   "cell_type": "code",
   "execution_count": null,
   "metadata": {
    "collapsed": true,
    "scrolled": true
   },
   "outputs": [],
   "source": [
    "pleiades_candidate = unique(ds.evaluate('ext_id', selection='pleiades'))"
   ]
  },
  {
   "cell_type": "code",
   "execution_count": null,
   "metadata": {
    "collapsed": true,
    "scrolled": true
   },
   "outputs": [],
   "source": [
    "print('Substructure', pleiades_candidate+1)"
   ]
  },
  {
   "cell_type": "code",
   "execution_count": null,
   "metadata": {
    "collapsed": true
   },
   "outputs": [],
   "source": [
    "print(max(f.num_p))"
   ]
  },
  {
   "cell_type": "markdown",
   "metadata": {},
   "source": [
    "## Do we find NGC 2682?"
   ]
  },
  {
   "cell_type": "code",
   "execution_count": null,
   "metadata": {
    "collapsed": true
   },
   "outputs": [],
   "source": [
    "ds.select('(l<-140) & (l>-150) & (b>29) & (b<33)', name='ngc2682')"
   ]
  },
  {
   "cell_type": "code",
   "execution_count": null,
   "metadata": {
    "collapsed": true,
    "scrolled": true
   },
   "outputs": [],
   "source": [
    "pleiades_candidate = unique(ds.evaluate('ext_id', selection='ngc2682'))"
   ]
  },
  {
   "cell_type": "code",
   "execution_count": null,
   "metadata": {
    "collapsed": true,
    "scrolled": true
   },
   "outputs": [],
   "source": [
    "print('Substructure', 2682_candidate+1)"
   ]
  },
  {
   "cell_type": "markdown",
   "metadata": {},
   "source": [
    "## Compare spatial distribution with RAVE OC"
   ]
  },
  {
   "cell_type": "code",
   "execution_count": null,
   "metadata": {
    "collapsed": true,
    "scrolled": false
   },
   "outputs": [],
   "source": [
    "# data of rave open cluster (refer to Conrad et al. 2014) \n",
    "tmp_roc = '/net/virgo01/data/users/virgini/rockstar/RC3/input/rave_oc'\n",
    "hdr_roc = ['l', 'b', 'name', 'ra', 'dec']\n",
    "df_roc  = pd.read_csv(tmp_roc, sep=';', comment='#', names=hdr_roc)\n",
    "\n",
    "df_roc.head(5)"
   ]
  },
  {
   "cell_type": "code",
   "execution_count": null,
   "metadata": {
    "collapsed": true
   },
   "outputs": [],
   "source": [
    "# data of rockstar substructure\n",
    "df_pos  = pd.read_csv(tmp_sub, sep=' ', comment='#', names=hdr_sub)\n",
    "\n",
    "# check position of rave oc in ra_dec\n",
    "p.figure(figsize=(14,7))\n",
    "p.title('Spatial distribution of stars in OC areas covered by RAVE')\n",
    "p.scatter(df_roc.ra, df_roc.dec, s=3, color='red')\n",
    "p.xlabel('RA in deg')\n",
    "p.ylabel('DEC in deg')\n",
    "p.xlim(0, 360)\n",
    "p.ylim(-90, 30)\n",
    "p.show()"
   ]
  },
  {
   "cell_type": "code",
   "execution_count": null,
   "metadata": {
    "collapsed": true
   },
   "outputs": [],
   "source": [
    "# compare both in one plot\n",
    "tmp_pos = '/net/virgo01/data/users/virgini/rockstar/RC3/output/0.0.position.pdf'\n",
    "tmp_pos = '/net/virgo01/data/users/virgini/rockstar/RC3/output/output-8-spatdis.pdf'\n",
    "\n",
    "with PdfPages(tmp_pos) as pdf:\n",
    "    p.figure(figsize=(14,7))\n",
    "    p.title('Spatial distribution')\n",
    "    p.scatter(df_pos.l, df_pos.b, s=7, color='blue', label='Rockstar substructures')\n",
    "    p.scatter(df_roc.l, df_roc.b, s=7, color='red', label='RAVE OC (Conrad et al. 2014)')\n",
    "    p.xlim(0, 360)\n",
    "    p.ylim(-90, 90)\n",
    "    p.xlabel('Galactic longitude (l)')\n",
    "    p.ylabel('Galactic latitutde (b)')\n",
    "    p.legend(frameon=False, loc='upper left')\n",
    "    pdf.savefig()\n",
    "\n",
    "p.show()\n",
    "print('finish')"
   ]
  },
  {
   "cell_type": "markdown",
   "metadata": {},
   "source": [
    "# Colormap of velocity in XY plane and ZY plane"
   ]
  },
  {
   "cell_type": "code",
   "execution_count": null,
   "metadata": {
    "collapsed": true
   },
   "outputs": [],
   "source": [
    "ds = vaex.from_ascii('/net/virgo01/data/users/virgini/rockstar/RC3/input/input_6d_4_gal')"
   ]
  },
  {
   "cell_type": "code",
   "execution_count": null,
   "metadata": {
    "collapsed": true
   },
   "outputs": [],
   "source": [
    "ds.plot1d(ds.col.x, show=True), ds.min('x'), ds.max('x')\n",
    "ds.plot1d(ds.col.y, show=True)\n",
    "ds.plot1d(ds.col.z, show=True)"
   ]
  },
  {
   "cell_type": "code",
   "execution_count": null,
   "metadata": {
    "collapsed": true
   },
   "outputs": [],
   "source": [
    "ds.plot1d(ds.col.vx, show=True)\n",
    "ds.plot1d(ds.col.vy, show=True)\n",
    "ds.plot1d(ds.col.vz, show=True)"
   ]
  },
  {
   "cell_type": "code",
   "execution_count": null,
   "metadata": {
    "collapsed": true
   },
   "outputs": [],
   "source": [
    "ds.plot(x = ds.col.x, y = ds.col.vx, show=True)\n",
    "ds.plot(x = ds.col.y, y = ds.col.vy, show=True)\n",
    "ds.plot(x = ds.col.z, y = ds.col.vz, show=True)"
   ]
  },
  {
   "cell_type": "code",
   "execution_count": null,
   "metadata": {
    "collapsed": true
   },
   "outputs": [],
   "source": [
    "radii = numpy.arange(6.0,10.01,0.2) #to decide this, we need to know the area of all substructure being plotted.\n",
    "maxdistR = 0.25\n",
    "maxdistz = 0.05\n",
    "zvalues = numpy.arange(-1.0, 1.01, 0.1)\n",
    "\n",
    "extent = [radii.min()-0.1,radii.max()+0.1,zvalues.min()-0.05,zvalues.max()+0.05]\n",
    "aspect = 'auto' #fill full space of figure\n",
    "\n",
    "RR, ZZ = numpy.meshgrid(radii, zvalues) # RR and ZZ are shaped by (zvalues, radii)\n",
    "\n",
    "AA = numpy.zeros((len(radii), len(zvalues), 4))\n",
    "\n",
    "for k in numpy.arange(len(zvalues)):\n",
    "     print(k, 'out of', len(zvalues)-1)\n",
    "     z = zvalues[k]\n",
    "     for j in numpy.arange(len(radii)):\n",
    "         r = radii[j]\n",
    "\n",
    "         #Select a 'rectangular' ring\n",
    "         ds.select('(abs(z - %f) < %f) & (abs(R - %f) < %f)' %(z,maxdistz,r,maxdistR), name='subset')\n",
    "\n",
    "         AA[j,k,0] = int(ds.count(selection=\"subset\"))\n",
    "         AA[j,k,1] = ds.mean('vx', selection=\"subset\")\n",
    "         AA[j,k,2] = ds.mean('vy', selection=\"subset\")\n",
    "         AA[j,k,3] = ds.mean('vz', selection=\"subset\")"
   ]
  },
  {
   "cell_type": "code",
   "execution_count": null,
   "metadata": {
    "collapsed": true
   },
   "outputs": [],
   "source": [
    "df_rs = pd.read_csv(tmp_part, sep=' ', comment='#', names=hdr)\n",
    "df_rs = df_rs[(df_rs.as_int_id == df_rs.int_id) & (df_rs.ext_id != -1)]"
   ]
  },
  {
   "cell_type": "code",
   "execution_count": null,
   "metadata": {
    "collapsed": true
   },
   "outputs": [],
   "source": [
    "df_rs.head(11)"
   ]
  },
  {
   "cell_type": "code",
   "execution_count": null,
   "metadata": {
    "collapsed": true
   },
   "outputs": [],
   "source": [
    "ds_tgas_rave = vaex.open('/net/virgo01/data/users/virgini/rockstar/RC3/data/data_6d_cut')"
   ]
  },
  {
   "cell_type": "code",
   "execution_count": null,
   "metadata": {
    "collapsed": true
   },
   "outputs": [],
   "source": [
    "df_tgas_rave = ds_tgas_rave.to_pandas_df()"
   ]
  },
  {
   "cell_type": "code",
   "execution_count": null,
   "metadata": {
    "collapsed": true
   },
   "outputs": [],
   "source": [
    "df_tgas_rave"
   ]
  },
  {
   "cell_type": "code",
   "execution_count": null,
   "metadata": {
    "collapsed": true
   },
   "outputs": [],
   "source": [
    "longitude = arange(10,dtype=float)\n",
    "latitude  = arange(10,dtype=float)\n",
    "\n",
    "for i in range(10):\n",
    "    longitude[i] = float(df_tgas_rave.l[df_tgas_rave.source_id == df_rs.p_id[i]])\n",
    "    latitude[i]  = float(df_tgas_rave.b[df_tgas_rave.source_id == df_rs.p_id[i]])\n",
    "\n",
    "longitude.mean(), latitude.mean()"
   ]
  }
 ],
 "metadata": {
  "kernelspec": {
   "display_name": "Python 3",
   "language": "python",
   "name": "python3"
  },
  "language_info": {
   "codemirror_mode": {
    "name": "ipython",
    "version": 3
   },
   "file_extension": ".py",
   "mimetype": "text/x-python",
   "name": "python",
   "nbconvert_exporter": "python",
   "pygments_lexer": "ipython3",
   "version": "3.6.6"
  }
 },
 "nbformat": 4,
 "nbformat_minor": 2
}
